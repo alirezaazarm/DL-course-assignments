{
  "cells": [
    {
      "cell_type": "code",
      "execution_count": 1,
      "metadata": {
        "id": "071adb6d"
      },
      "outputs": [],
      "source": [
        "import tensorflow as tf\n",
        "from tensorflow import keras\n",
        "from sklearn.datasets import fetch_california_housing\n",
        "from sklearn.model_selection import train_test_split\n",
        "from sklearn.preprocessing import StandardScaler\n",
        "from sklearn.model_selection import GridSearchCV\n",
        "import matplotlib.pyplot as plt\n",
        "import numpy as np\n",
        "import keras\n"
      ],
      "id": "071adb6d"
    },
    {
      "cell_type": "code",
      "execution_count": 2,
      "metadata": {
        "id": "3c95c9c9",
        "colab": {
          "base_uri": "https://localhost:8080/"
        },
        "outputId": "b3d10425-d893-4a92-ec3c-20c94def1e89"
      },
      "outputs": [
        {
          "output_type": "stream",
          "name": "stdout",
          "text": [
            "Downloading data from https://www.cs.toronto.edu/~kriz/cifar-10-python.tar.gz\n",
            "170498071/170498071 [==============================] - 5s 0us/step\n"
          ]
        }
      ],
      "source": [
        "(x_train0, y_train0), (x_test0, y_test0) = tf.keras.datasets.cifar10.load_data()"
      ],
      "id": "3c95c9c9"
    },
    {
      "cell_type": "markdown",
      "metadata": {
        "id": "cf85c93d-a864-4e44-8739-5d148affb389"
      },
      "source": [
        "### 1. Shape of input images and results"
      ],
      "id": "cf85c93d-a864-4e44-8739-5d148affb389"
    },
    {
      "cell_type": "code",
      "execution_count": 3,
      "metadata": {
        "colab": {
          "base_uri": "https://localhost:8080/"
        },
        "id": "cf9802cf",
        "outputId": "dfc2dec8-6b34-40a1-c7de-3f89b877999e"
      },
      "outputs": [
        {
          "output_type": "stream",
          "name": "stdout",
          "text": [
            "keras dataset :::\n",
            "input train shape : (50000, 32, 32, 3)     input test shape : (10000, 32, 32, 3)\n",
            "output train shape : (50000, 1)            outpu test shape : (10000, 1)\n"
          ]
        }
      ],
      "source": [
        "print('keras dataset :::')\n",
        "print('input train shape :',x_train0.shape,'    input test shape :',x_test0.shape)\n",
        "print('output train shape :',y_train0.shape,'           outpu test shape :',y_test0.shape)"
      ],
      "id": "cf9802cf"
    },
    {
      "cell_type": "code",
      "execution_count": 4,
      "metadata": {
        "colab": {
          "base_uri": "https://localhost:8080/",
          "height": 447
        },
        "id": "5c79aeea",
        "outputId": "b355c51c-55db-4bec-c442-ca414a5bdb03"
      },
      "outputs": [
        {
          "output_type": "execute_result",
          "data": {
            "text/plain": [
              "<matplotlib.image.AxesImage at 0x7fd220cf9430>"
            ]
          },
          "metadata": {},
          "execution_count": 4
        },
        {
          "output_type": "display_data",
          "data": {
            "text/plain": [
              "<Figure size 640x480 with 1 Axes>"
            ],
            "image/png": "[encoded data removed]"
          },
          "metadata": {}
        }
      ],
      "source": [
        "plt.imshow(x_test0[3])"
      ],
      "id": "5c79aeea"
    },
    {
      "cell_type": "markdown",
      "metadata": {
        "id": "70e1ae58-931e-48ec-934c-5d801f91a7ea"
      },
      "source": [
        "### concatenating original test and train data"
      ],
      "id": "70e1ae58-931e-48ec-934c-5d801f91a7ea"
    },
    {
      "cell_type": "code",
      "execution_count": 5,
      "metadata": {
        "colab": {
          "base_uri": "https://localhost:8080/"
        },
        "id": "0f00569f",
        "outputId": "2d3b391d-d777-4c86-8e20-c7aad73911c3"
      },
      "outputs": [
        {
          "output_type": "execute_result",
          "data": {
            "text/plain": [
              "(60000, 32, 32, 3)"
            ]
          },
          "metadata": {},
          "execution_count": 5
        }
      ],
      "source": [
        "whole_input_data = np.concatenate((x_train0,x_test0),dtype=float,axis=0)\n",
        "whole_input_data.shape"
      ],
      "id": "0f00569f"
    },
    {
      "cell_type": "code",
      "execution_count": 6,
      "metadata": {
        "colab": {
          "base_uri": "https://localhost:8080/",
          "height": 447
        },
        "id": "6fa74e42-34bf-428d-8850-640bef117cfe",
        "outputId": "170042f3-8e1b-4429-ebae-0a838a477c94"
      },
      "outputs": [
        {
          "output_type": "execute_result",
          "data": {
            "text/plain": [
              "<matplotlib.image.AxesImage at 0x7fd215176f70>"
            ]
          },
          "metadata": {},
          "execution_count": 6
        },
        {
          "output_type": "display_data",
          "data": {
            "text/plain": [
              "<Figure size 640x480 with 1 Axes>"
            ],
            "image/png": "[encoded data removed]"
          },
          "metadata": {}
        }
      ],
      "source": [
        "plt.imshow(whole_input_data[50003].astype((np.uint8)))"
      ],
      "id": "6fa74e42-34bf-428d-8850-640bef117cfe"
    },
    {
      "cell_type": "code",
      "execution_count": 7,
      "metadata": {
        "colab": {
          "base_uri": "https://localhost:8080/"
        },
        "id": "e3402c71",
        "outputId": "f28ecef9-5bd7-49f7-b9d6-ed6935eecbb2"
      },
      "outputs": [
        {
          "output_type": "execute_result",
          "data": {
            "text/plain": [
              "(60000, 1)"
            ]
          },
          "metadata": {},
          "execution_count": 7
        }
      ],
      "source": [
        "whole_output_data = np.concatenate((y_train0,y_test0),dtype=float,axis=0)\n",
        "whole_output_data.shape"
      ],
      "id": "e3402c71"
    },
    {
      "cell_type": "markdown",
      "metadata": {
        "id": "735855a5-e189-401f-ac54-3996049564c1"
      },
      "source": [
        "### normalizing image array"
      ],
      "id": "735855a5-e189-401f-ac54-3996049564c1"
    },
    {
      "cell_type": "code",
      "execution_count": 8,
      "metadata": {
        "id": "90aebb75-c405-437c-9851-b865af28f26e"
      },
      "outputs": [],
      "source": [
        "whole_input_data = whole_input_data/255.0"
      ],
      "id": "90aebb75-c405-437c-9851-b865af28f26e"
    },
    {
      "cell_type": "markdown",
      "metadata": {
        "id": "316e49a6-4170-4b27-bf1b-f977ff64b218"
      },
      "source": [
        "###  2. slpit whole date 15% for test"
      ],
      "id": "316e49a6-4170-4b27-bf1b-f977ff64b218"
    },
    {
      "cell_type": "code",
      "execution_count": 9,
      "metadata": {
        "id": "d5ebdf36"
      },
      "outputs": [],
      "source": [
        "x_train1, x_test, y_train1, y_test = train_test_split(whole_input_data,whole_output_data,test_size=0.15)"
      ],
      "id": "d5ebdf36"
    },
    {
      "cell_type": "code",
      "execution_count": 10,
      "metadata": {
        "colab": {
          "base_uri": "https://localhost:8080/"
        },
        "id": "7c6f00ba",
        "outputId": "2fa536d1-c2f8-4bc2-8aa3-6bcd6cc1f104"
      },
      "outputs": [
        {
          "output_type": "stream",
          "name": "stdout",
          "text": [
            "x_test shape:        (9000, 32, 32, 3)  and  (9000, 1)\n",
            "x_train1 shape:      (51000, 32, 32, 3)  and  (51000, 1)\n"
          ]
        }
      ],
      "source": [
        "print('x_test shape:       ',x_test.shape,' and ',y_test.shape,)\n",
        "print('x_train1 shape:     ',x_train1.shape,' and ',y_train1.shape)"
      ],
      "id": "7c6f00ba"
    },
    {
      "cell_type": "markdown",
      "metadata": {
        "id": "a258206b-481d-4396-9cd7-60ee226701a3"
      },
      "source": [
        "### 3. Reshaping output to use categorical_crossentropy and fit the model\n",
        "\n"
      ],
      "id": "a258206b-481d-4396-9cd7-60ee226701a3"
    },
    {
      "cell_type": "code",
      "execution_count": 11,
      "metadata": {
        "colab": {
          "base_uri": "https://localhost:8080/"
        },
        "id": "fdaa490a",
        "outputId": "71c24853-647c-440a-bcb2-c537ebafb1aa"
      },
      "outputs": [
        {
          "output_type": "stream",
          "name": "stdout",
          "text": [
            "shape of y_train1 : (51000, 10)\n"
          ]
        }
      ],
      "source": [
        "new_y_tr = []\n",
        "\n",
        "for y in y_train1:\n",
        "    target = [0,0,0,0,0,0,0,0,0,0]\n",
        "    target[int(y[0])]=1\n",
        "    new_y_tr.append(target)\n",
        "\n",
        "y_train1 = np.array(new_y_tr)\n",
        "\n",
        "print('shape of y_train1 :',y_train1.shape)"
      ],
      "id": "fdaa490a"
    },
    {
      "cell_type": "code",
      "execution_count": 12,
      "metadata": {
        "id": "0be88ecc-54f5-4dad-b1a4-5167057aa348"
      },
      "outputs": [],
      "source": [
        "model = keras.models.Sequential()\n",
        "model.add(keras.layers.Flatten(input_shape=[32, 32,3]))\n",
        "model.add(keras.layers.Dense(150, activation=\"relu\",name='h1'))\n",
        "model.add(keras.layers.Dense(100, activation=\"relu\",name='h2'))\n",
        "model.add(keras.layers.Dense(50, activation=\"relu\",name='h3'))\n",
        "model.add(keras.layers.Dense(10, activation='softmax',name='h4'))"
      ],
      "id": "0be88ecc-54f5-4dad-b1a4-5167057aa348"
    },
    {
      "cell_type": "markdown",
      "source": [
        "### trying to set F1score as a metric, but it fails..."
      ],
      "metadata": {
        "id": "MXk-K-h4lLo-"
      },
      "id": "MXk-K-h4lLo-"
    },
    {
      "cell_type": "code",
      "source": [
        "!pip install tf-nightly"
      ],
      "metadata": {
        "id": "Wdd0P3gdjcMV"
      },
      "id": "Wdd0P3gdjcMV",
      "execution_count": null,
      "outputs": []
    },
    {
      "cell_type": "code",
      "execution_count": 13,
      "metadata": {
        "id": "88767cf6-1aaa-47f1-a2c9-3f999321c3ba"
      },
      "outputs": [],
      "source": [
        "model.compile(loss=\"categorical_crossentropy\",\n",
        "              optimizer=\"sgd\",\n",
        "              metrics=['accuracy','AUC']\n",
        "              )\n",
        "# tf.keras.metrics.F1Score(average=None, threshold=None, name='f1_score', dtype=None)                 I DONT KNOW HOW IT WORKS ... :("
      ],
      "id": "88767cf6-1aaa-47f1-a2c9-3f999321c3ba"
    },
    {
      "cell_type": "code",
      "execution_count": 14,
      "metadata": {
        "colab": {
          "base_uri": "https://localhost:8080/"
        },
        "id": "54d1ba6b-cdc6-49e3-97be-9f8d815b4037",
        "outputId": "fcb40b0f-bcd5-4c36-b35f-b8627f9be4d6"
      },
      "outputs": [
        {
          "output_type": "stream",
          "name": "stdout",
          "text": [
            "Epoch 1/100\n",
            "1275/1275 [==============================] - 14s 10ms/step - loss: 1.9572 - accuracy: 0.2908 - auc: 0.7517 - val_loss: 1.8426 - val_accuracy: 0.3330 - val_auc: 0.7897\n",
            "Epoch 2/100\n",
            "1275/1275 [==============================] - 12s 9ms/step - loss: 1.7535 - accuracy: 0.3748 - auc: 0.8136 - val_loss: 1.7477 - val_accuracy: 0.3705 - val_auc: 0.8162\n",
            "Epoch 3/100\n",
            "1275/1275 [==============================] - 14s 11ms/step - loss: 1.6717 - accuracy: 0.4041 - auc: 0.8334 - val_loss: 1.6870 - val_accuracy: 0.3997 - val_auc: 0.8296\n",
            "Epoch 4/100\n",
            "1275/1275 [==============================] - 10s 7ms/step - loss: 1.6157 - accuracy: 0.4239 - auc: 0.8458 - val_loss: 1.6392 - val_accuracy: 0.4147 - val_auc: 0.8402\n",
            "Epoch 5/100\n",
            "1275/1275 [==============================] - 10s 8ms/step - loss: 1.5719 - accuracy: 0.4394 - auc: 0.8550 - val_loss: 1.6164 - val_accuracy: 0.4238 - val_auc: 0.8460\n",
            "Epoch 6/100\n",
            "1275/1275 [==============================] - 10s 8ms/step - loss: 1.5349 - accuracy: 0.4512 - auc: 0.8624 - val_loss: 1.6145 - val_accuracy: 0.4316 - val_auc: 0.8453\n",
            "Epoch 7/100\n",
            "1275/1275 [==============================] - 11s 9ms/step - loss: 1.5028 - accuracy: 0.4631 - auc: 0.8685 - val_loss: 1.5564 - val_accuracy: 0.4421 - val_auc: 0.8579\n",
            "Epoch 8/100\n",
            "1275/1275 [==============================] - 11s 8ms/step - loss: 1.4754 - accuracy: 0.4724 - auc: 0.8737 - val_loss: 1.5484 - val_accuracy: 0.4482 - val_auc: 0.8595\n",
            "Epoch 9/100\n",
            "1275/1275 [==============================] - 9s 7ms/step - loss: 1.4502 - accuracy: 0.4843 - auc: 0.8783 - val_loss: 1.5224 - val_accuracy: 0.4525 - val_auc: 0.8654\n",
            "Epoch 10/100\n",
            "1275/1275 [==============================] - 10s 8ms/step - loss: 1.4290 - accuracy: 0.4898 - auc: 0.8821 - val_loss: 1.5020 - val_accuracy: 0.4676 - val_auc: 0.8689\n",
            "Epoch 11/100\n",
            "1275/1275 [==============================] - 10s 8ms/step - loss: 1.4087 - accuracy: 0.4960 - auc: 0.8858 - val_loss: 1.5205 - val_accuracy: 0.4572 - val_auc: 0.8659\n",
            "Epoch 12/100\n",
            "1275/1275 [==============================] - 10s 8ms/step - loss: 1.3885 - accuracy: 0.5037 - auc: 0.8892 - val_loss: 1.5174 - val_accuracy: 0.4567 - val_auc: 0.8671\n",
            "Epoch 13/100\n",
            "1275/1275 [==============================] - 9s 7ms/step - loss: 1.3731 - accuracy: 0.5102 - auc: 0.8916 - val_loss: 1.4682 - val_accuracy: 0.4771 - val_auc: 0.8753\n",
            "Epoch 14/100\n",
            "1275/1275 [==============================] - 10s 8ms/step - loss: 1.3535 - accuracy: 0.5180 - auc: 0.8949 - val_loss: 1.5160 - val_accuracy: 0.4674 - val_auc: 0.8676\n",
            "Epoch 15/100\n",
            "1275/1275 [==============================] - 10s 8ms/step - loss: 1.3375 - accuracy: 0.5211 - auc: 0.8976 - val_loss: 1.4699 - val_accuracy: 0.4781 - val_auc: 0.8755\n",
            "Epoch 16/100\n",
            "1275/1275 [==============================] - 10s 8ms/step - loss: 1.3179 - accuracy: 0.5307 - auc: 0.9006 - val_loss: 1.4864 - val_accuracy: 0.4759 - val_auc: 0.8732\n",
            "Epoch 17/100\n",
            "1275/1275 [==============================] - 9s 7ms/step - loss: 1.3067 - accuracy: 0.5336 - auc: 0.9022 - val_loss: 1.4739 - val_accuracy: 0.4770 - val_auc: 0.8758\n",
            "Epoch 18/100\n",
            "1275/1275 [==============================] - 10s 8ms/step - loss: 1.2898 - accuracy: 0.5410 - auc: 0.9049 - val_loss: 1.4441 - val_accuracy: 0.4857 - val_auc: 0.8808\n",
            "Epoch 19/100\n",
            "1275/1275 [==============================] - 10s 8ms/step - loss: 1.2740 - accuracy: 0.5462 - auc: 0.9074 - val_loss: 1.4293 - val_accuracy: 0.4901 - val_auc: 0.8828\n",
            "Epoch 20/100\n",
            "1275/1275 [==============================] - 10s 8ms/step - loss: 1.2623 - accuracy: 0.5506 - auc: 0.9091 - val_loss: 1.4540 - val_accuracy: 0.4853 - val_auc: 0.8800\n",
            "Epoch 21/100\n",
            "1275/1275 [==============================] - 9s 7ms/step - loss: 1.2505 - accuracy: 0.5547 - auc: 0.9108 - val_loss: 1.4293 - val_accuracy: 0.4983 - val_auc: 0.8833\n",
            "Epoch 22/100\n",
            "1275/1275 [==============================] - 10s 8ms/step - loss: 1.2350 - accuracy: 0.5613 - auc: 0.9130 - val_loss: 1.4318 - val_accuracy: 0.4892 - val_auc: 0.8835\n",
            "Epoch 23/100\n",
            "1275/1275 [==============================] - 10s 8ms/step - loss: 1.2228 - accuracy: 0.5657 - auc: 0.9148 - val_loss: 1.4096 - val_accuracy: 0.5010 - val_auc: 0.8873\n",
            "Epoch 24/100\n",
            "1275/1275 [==============================] - 11s 8ms/step - loss: 1.2134 - accuracy: 0.5688 - auc: 0.9161 - val_loss: 1.3901 - val_accuracy: 0.5082 - val_auc: 0.8903\n",
            "Epoch 25/100\n",
            "1275/1275 [==============================] - 9s 7ms/step - loss: 1.1969 - accuracy: 0.5745 - auc: 0.9184 - val_loss: 1.4458 - val_accuracy: 0.4951 - val_auc: 0.8814\n",
            "Epoch 26/100\n",
            "1275/1275 [==============================] - 10s 8ms/step - loss: 1.1847 - accuracy: 0.5780 - auc: 0.9201 - val_loss: 1.3970 - val_accuracy: 0.5034 - val_auc: 0.8886\n",
            "Epoch 27/100\n",
            "1275/1275 [==============================] - 9s 7ms/step - loss: 1.1747 - accuracy: 0.5827 - auc: 0.9215 - val_loss: 1.4235 - val_accuracy: 0.5065 - val_auc: 0.8860\n",
            "Epoch 28/100\n",
            "1275/1275 [==============================] - 10s 8ms/step - loss: 1.1627 - accuracy: 0.5884 - auc: 0.9233 - val_loss: 1.4203 - val_accuracy: 0.4990 - val_auc: 0.8866\n",
            "Epoch 29/100\n",
            "1275/1275 [==============================] - 9s 7ms/step - loss: 1.1544 - accuracy: 0.5932 - auc: 0.9242 - val_loss: 1.4411 - val_accuracy: 0.5019 - val_auc: 0.8855\n",
            "Epoch 30/100\n",
            "1275/1275 [==============================] - 10s 8ms/step - loss: 1.1386 - accuracy: 0.5959 - auc: 0.9263 - val_loss: 1.4207 - val_accuracy: 0.5059 - val_auc: 0.8887\n",
            "Epoch 31/100\n",
            "1275/1275 [==============================] - 10s 8ms/step - loss: 1.1313 - accuracy: 0.5963 - auc: 0.9273 - val_loss: 1.4292 - val_accuracy: 0.5019 - val_auc: 0.8865\n",
            "Epoch 32/100\n",
            "1275/1275 [==============================] - 10s 8ms/step - loss: 1.1182 - accuracy: 0.6033 - auc: 0.9289 - val_loss: 1.4100 - val_accuracy: 0.5116 - val_auc: 0.8894\n",
            "Epoch 33/100\n",
            "1275/1275 [==============================] - 8s 7ms/step - loss: 1.1086 - accuracy: 0.6062 - auc: 0.9302 - val_loss: 1.4046 - val_accuracy: 0.5123 - val_auc: 0.8909\n",
            "Epoch 34/100\n",
            "1275/1275 [==============================] - 9s 7ms/step - loss: 1.0993 - accuracy: 0.6062 - auc: 0.9313 - val_loss: 1.4245 - val_accuracy: 0.5022 - val_auc: 0.8869\n",
            "Epoch 35/100\n",
            "1275/1275 [==============================] - 9s 7ms/step - loss: 1.0862 - accuracy: 0.6121 - auc: 0.9329 - val_loss: 1.4601 - val_accuracy: 0.4991 - val_auc: 0.8838\n",
            "Epoch 36/100\n",
            "1275/1275 [==============================] - 9s 7ms/step - loss: 1.0758 - accuracy: 0.6142 - auc: 0.9343 - val_loss: 1.4365 - val_accuracy: 0.5025 - val_auc: 0.8884\n",
            "Epoch 37/100\n",
            "1275/1275 [==============================] - 9s 7ms/step - loss: 1.0703 - accuracy: 0.6176 - auc: 0.9349 - val_loss: 1.4133 - val_accuracy: 0.5073 - val_auc: 0.8899\n",
            "Epoch 38/100\n",
            "1275/1275 [==============================] - 10s 8ms/step - loss: 1.0586 - accuracy: 0.6257 - auc: 0.9363 - val_loss: 1.4157 - val_accuracy: 0.5066 - val_auc: 0.8895\n",
            "Epoch 39/100\n",
            "1275/1275 [==============================] - 10s 8ms/step - loss: 1.0471 - accuracy: 0.6251 - auc: 0.9378 - val_loss: 1.4783 - val_accuracy: 0.4866 - val_auc: 0.8813\n",
            "Epoch 40/100\n",
            "1275/1275 [==============================] - 8s 7ms/step - loss: 1.0405 - accuracy: 0.6288 - auc: 0.9386 - val_loss: 1.4521 - val_accuracy: 0.5043 - val_auc: 0.8879\n",
            "Epoch 41/100\n",
            "1275/1275 [==============================] - 10s 8ms/step - loss: 1.0268 - accuracy: 0.6350 - auc: 0.9401 - val_loss: 1.4806 - val_accuracy: 0.4975 - val_auc: 0.8820\n",
            "Epoch 42/100\n",
            "1275/1275 [==============================] - 10s 8ms/step - loss: 1.0179 - accuracy: 0.6385 - auc: 0.9411 - val_loss: 1.4538 - val_accuracy: 0.5128 - val_auc: 0.8852\n",
            "Epoch 43/100\n",
            "1275/1275 [==============================] - 11s 8ms/step - loss: 1.0061 - accuracy: 0.6405 - auc: 0.9425 - val_loss: 1.4895 - val_accuracy: 0.4970 - val_auc: 0.8836\n",
            "Epoch 44/100\n",
            "1275/1275 [==============================] - 9s 7ms/step - loss: 0.9986 - accuracy: 0.6447 - auc: 0.9433 - val_loss: 1.4745 - val_accuracy: 0.5002 - val_auc: 0.8829\n",
            "Epoch 45/100\n",
            "1275/1275 [==============================] - 10s 8ms/step - loss: 0.9889 - accuracy: 0.6473 - auc: 0.9444 - val_loss: 1.4417 - val_accuracy: 0.5132 - val_auc: 0.8890\n",
            "Epoch 46/100\n",
            "1275/1275 [==============================] - 10s 8ms/step - loss: 0.9823 - accuracy: 0.6496 - auc: 0.9451 - val_loss: 1.4772 - val_accuracy: 0.5028 - val_auc: 0.8847\n",
            "Epoch 47/100\n",
            "1275/1275 [==============================] - 11s 8ms/step - loss: 0.9710 - accuracy: 0.6539 - auc: 0.9462 - val_loss: 1.4445 - val_accuracy: 0.5151 - val_auc: 0.8907\n",
            "Epoch 48/100\n",
            "1275/1275 [==============================] - 9s 7ms/step - loss: 0.9637 - accuracy: 0.6560 - auc: 0.9471 - val_loss: 1.4757 - val_accuracy: 0.5080 - val_auc: 0.8872\n",
            "Epoch 49/100\n",
            "1275/1275 [==============================] - 10s 8ms/step - loss: 0.9552 - accuracy: 0.6581 - auc: 0.9482 - val_loss: 1.4545 - val_accuracy: 0.5136 - val_auc: 0.8891\n",
            "Epoch 50/100\n",
            "1275/1275 [==============================] - 10s 8ms/step - loss: 0.9454 - accuracy: 0.6605 - auc: 0.9491 - val_loss: 1.4876 - val_accuracy: 0.5087 - val_auc: 0.8861\n",
            "Epoch 51/100\n",
            "1275/1275 [==============================] - 10s 8ms/step - loss: 0.9331 - accuracy: 0.6674 - auc: 0.9504 - val_loss: 1.6263 - val_accuracy: 0.4872 - val_auc: 0.8713\n",
            "Epoch 52/100\n",
            "1275/1275 [==============================] - 9s 7ms/step - loss: 0.9260 - accuracy: 0.6700 - auc: 0.9511 - val_loss: 1.4951 - val_accuracy: 0.5089 - val_auc: 0.8864\n",
            "Epoch 53/100\n",
            "1275/1275 [==============================] - 10s 8ms/step - loss: 0.9197 - accuracy: 0.6731 - auc: 0.9516 - val_loss: 1.5210 - val_accuracy: 0.4944 - val_auc: 0.8796\n",
            "Epoch 54/100\n",
            "1275/1275 [==============================] - 10s 8ms/step - loss: 0.9101 - accuracy: 0.6764 - auc: 0.9527 - val_loss: 1.5314 - val_accuracy: 0.5051 - val_auc: 0.8833\n",
            "Epoch 55/100\n",
            "1275/1275 [==============================] - 10s 8ms/step - loss: 0.9017 - accuracy: 0.6768 - auc: 0.9537 - val_loss: 1.5177 - val_accuracy: 0.5066 - val_auc: 0.8847\n",
            "Epoch 56/100\n",
            "1275/1275 [==============================] - 9s 7ms/step - loss: 0.8944 - accuracy: 0.6816 - auc: 0.9543 - val_loss: 1.5009 - val_accuracy: 0.5121 - val_auc: 0.8864\n",
            "Epoch 57/100\n",
            "1275/1275 [==============================] - 10s 8ms/step - loss: 0.8889 - accuracy: 0.6828 - auc: 0.9549 - val_loss: 1.5241 - val_accuracy: 0.5065 - val_auc: 0.8829\n",
            "Epoch 58/100\n",
            "1275/1275 [==============================] - 10s 8ms/step - loss: 0.8768 - accuracy: 0.6867 - auc: 0.9562 - val_loss: 1.5383 - val_accuracy: 0.5104 - val_auc: 0.8839\n",
            "Epoch 59/100\n",
            "1275/1275 [==============================] - 9s 7ms/step - loss: 0.8668 - accuracy: 0.6922 - auc: 0.9570 - val_loss: 1.5253 - val_accuracy: 0.5112 - val_auc: 0.8834\n",
            "Epoch 60/100\n",
            "1275/1275 [==============================] - 9s 7ms/step - loss: 0.8615 - accuracy: 0.6932 - auc: 0.9575 - val_loss: 1.5609 - val_accuracy: 0.5084 - val_auc: 0.8832\n",
            "Epoch 61/100\n",
            "1275/1275 [==============================] - 10s 8ms/step - loss: 0.8475 - accuracy: 0.6994 - auc: 0.9588 - val_loss: 1.5528 - val_accuracy: 0.5103 - val_auc: 0.8835\n",
            "Epoch 62/100\n",
            "1275/1275 [==============================] - 10s 8ms/step - loss: 0.8483 - accuracy: 0.6954 - auc: 0.9589 - val_loss: 1.5339 - val_accuracy: 0.5165 - val_auc: 0.8863\n",
            "Epoch 63/100\n",
            "1275/1275 [==============================] - 10s 8ms/step - loss: 0.8398 - accuracy: 0.7015 - auc: 0.9595 - val_loss: 1.6205 - val_accuracy: 0.4966 - val_auc: 0.8758\n",
            "Epoch 64/100\n",
            "1275/1275 [==============================] - 9s 7ms/step - loss: 0.8324 - accuracy: 0.7034 - auc: 0.9602 - val_loss: 1.5903 - val_accuracy: 0.5011 - val_auc: 0.8807\n",
            "Epoch 65/100\n",
            "1275/1275 [==============================] - 10s 8ms/step - loss: 0.8234 - accuracy: 0.7049 - auc: 0.9612 - val_loss: 1.6582 - val_accuracy: 0.5042 - val_auc: 0.8753\n",
            "Epoch 66/100\n",
            "1275/1275 [==============================] - 10s 8ms/step - loss: 0.8140 - accuracy: 0.7094 - auc: 0.9619 - val_loss: 1.5515 - val_accuracy: 0.5119 - val_auc: 0.8834\n",
            "Epoch 67/100\n",
            "1275/1275 [==============================] - 11s 8ms/step - loss: 0.8083 - accuracy: 0.7125 - auc: 0.9624 - val_loss: 1.6052 - val_accuracy: 0.4995 - val_auc: 0.8789\n",
            "Epoch 68/100\n",
            "1275/1275 [==============================] - 9s 7ms/step - loss: 0.8041 - accuracy: 0.7150 - auc: 0.9627 - val_loss: 1.5887 - val_accuracy: 0.5082 - val_auc: 0.8821\n",
            "Epoch 69/100\n",
            "1275/1275 [==============================] - 10s 8ms/step - loss: 0.7931 - accuracy: 0.7163 - auc: 0.9639 - val_loss: 1.5946 - val_accuracy: 0.5115 - val_auc: 0.8817\n",
            "Epoch 70/100\n",
            "1275/1275 [==============================] - 10s 8ms/step - loss: 0.7874 - accuracy: 0.7180 - auc: 0.9644 - val_loss: 1.6617 - val_accuracy: 0.5031 - val_auc: 0.8741\n",
            "Epoch 71/100\n",
            "1275/1275 [==============================] - 11s 9ms/step - loss: 0.7739 - accuracy: 0.7227 - auc: 0.9655 - val_loss: 1.6508 - val_accuracy: 0.5032 - val_auc: 0.8740\n",
            "Epoch 72/100\n",
            "1275/1275 [==============================] - 12s 9ms/step - loss: 0.7722 - accuracy: 0.7230 - auc: 0.9657 - val_loss: 1.6788 - val_accuracy: 0.4957 - val_auc: 0.8736\n",
            "Epoch 73/100\n",
            "1275/1275 [==============================] - 12s 9ms/step - loss: 0.7682 - accuracy: 0.7241 - auc: 0.9660 - val_loss: 1.6594 - val_accuracy: 0.5009 - val_auc: 0.8755\n",
            "Epoch 74/100\n",
            "1275/1275 [==============================] - 10s 8ms/step - loss: 0.7594 - accuracy: 0.7260 - auc: 0.9669 - val_loss: 1.7250 - val_accuracy: 0.5034 - val_auc: 0.8740\n",
            "Epoch 75/100\n",
            "1275/1275 [==============================] - 13s 10ms/step - loss: 0.7487 - accuracy: 0.7337 - auc: 0.9676 - val_loss: 1.6703 - val_accuracy: 0.4989 - val_auc: 0.8740\n",
            "Epoch 76/100\n",
            "1275/1275 [==============================] - 12s 9ms/step - loss: 0.7441 - accuracy: 0.7353 - auc: 0.9679 - val_loss: 1.6345 - val_accuracy: 0.5091 - val_auc: 0.8781\n",
            "Epoch 77/100\n",
            "1275/1275 [==============================] - 12s 10ms/step - loss: 0.7350 - accuracy: 0.7341 - auc: 0.9688 - val_loss: 1.7006 - val_accuracy: 0.4965 - val_auc: 0.8739\n",
            "Epoch 78/100\n",
            "1275/1275 [==============================] - 12s 10ms/step - loss: 0.7305 - accuracy: 0.7384 - auc: 0.9690 - val_loss: 1.7339 - val_accuracy: 0.4956 - val_auc: 0.8718\n",
            "Epoch 79/100\n",
            "1275/1275 [==============================] - 11s 9ms/step - loss: 0.7229 - accuracy: 0.7402 - auc: 0.9696 - val_loss: 1.7693 - val_accuracy: 0.5013 - val_auc: 0.8707\n",
            "Epoch 80/100\n",
            "1275/1275 [==============================] - 11s 8ms/step - loss: 0.7154 - accuracy: 0.7433 - auc: 0.9702 - val_loss: 1.7858 - val_accuracy: 0.5001 - val_auc: 0.8683\n",
            "Epoch 81/100\n",
            "1275/1275 [==============================] - 11s 9ms/step - loss: 0.7096 - accuracy: 0.7452 - auc: 0.9708 - val_loss: 1.7516 - val_accuracy: 0.5065 - val_auc: 0.8726\n",
            "Epoch 82/100\n",
            "1275/1275 [==============================] - 10s 7ms/step - loss: 0.7033 - accuracy: 0.7491 - auc: 0.9712 - val_loss: 1.7577 - val_accuracy: 0.5015 - val_auc: 0.8731\n",
            "Epoch 83/100\n",
            "1275/1275 [==============================] - 10s 8ms/step - loss: 0.6982 - accuracy: 0.7487 - auc: 0.9715 - val_loss: 1.7575 - val_accuracy: 0.5039 - val_auc: 0.8720\n",
            "Epoch 84/100\n",
            "1275/1275 [==============================] - 10s 8ms/step - loss: 0.6925 - accuracy: 0.7518 - auc: 0.9721 - val_loss: 1.7965 - val_accuracy: 0.4982 - val_auc: 0.8686\n",
            "Epoch 85/100\n",
            "1275/1275 [==============================] - 10s 8ms/step - loss: 0.6877 - accuracy: 0.7536 - auc: 0.9724 - val_loss: 1.8631 - val_accuracy: 0.4949 - val_auc: 0.8650\n",
            "Epoch 86/100\n",
            "1275/1275 [==============================] - 11s 9ms/step - loss: 0.6751 - accuracy: 0.7581 - auc: 0.9734 - val_loss: 1.7772 - val_accuracy: 0.4994 - val_auc: 0.8690\n",
            "Epoch 87/100\n",
            "1275/1275 [==============================] - 9s 7ms/step - loss: 0.6697 - accuracy: 0.7590 - auc: 0.9738 - val_loss: 1.8288 - val_accuracy: 0.5039 - val_auc: 0.8695\n",
            "Epoch 88/100\n",
            "1275/1275 [==============================] - 10s 8ms/step - loss: 0.6718 - accuracy: 0.7597 - auc: 0.9736 - val_loss: 1.8567 - val_accuracy: 0.4987 - val_auc: 0.8664\n",
            "Epoch 89/100\n",
            "1275/1275 [==============================] - 10s 8ms/step - loss: 0.6590 - accuracy: 0.7619 - auc: 0.9745 - val_loss: 1.9943 - val_accuracy: 0.4872 - val_auc: 0.8560\n",
            "Epoch 90/100\n",
            "1275/1275 [==============================] - 10s 8ms/step - loss: 0.6508 - accuracy: 0.7669 - auc: 0.9751 - val_loss: 1.8961 - val_accuracy: 0.4914 - val_auc: 0.8628\n",
            "Epoch 91/100\n",
            "1275/1275 [==============================] - 11s 8ms/step - loss: 0.6455 - accuracy: 0.7670 - auc: 0.9756 - val_loss: 1.8328 - val_accuracy: 0.5010 - val_auc: 0.8672\n",
            "Epoch 92/100\n",
            "1275/1275 [==============================] - 9s 7ms/step - loss: 0.6453 - accuracy: 0.7693 - auc: 0.9754 - val_loss: 1.9161 - val_accuracy: 0.4913 - val_auc: 0.8623\n",
            "Epoch 93/100\n",
            "1275/1275 [==============================] - 10s 8ms/step - loss: 0.6357 - accuracy: 0.7720 - auc: 0.9762 - val_loss: 1.8409 - val_accuracy: 0.5031 - val_auc: 0.8685\n",
            "Epoch 94/100\n",
            "1275/1275 [==============================] - 10s 8ms/step - loss: 0.6310 - accuracy: 0.7744 - auc: 0.9765 - val_loss: 1.8988 - val_accuracy: 0.5016 - val_auc: 0.8656\n",
            "Epoch 95/100\n",
            "1275/1275 [==============================] - 10s 8ms/step - loss: 0.6256 - accuracy: 0.7786 - auc: 0.9768 - val_loss: 1.8837 - val_accuracy: 0.4962 - val_auc: 0.8653\n",
            "Epoch 96/100\n",
            "1275/1275 [==============================] - 9s 7ms/step - loss: 0.6193 - accuracy: 0.7785 - auc: 0.9774 - val_loss: 1.8867 - val_accuracy: 0.5035 - val_auc: 0.8637\n",
            "Epoch 97/100\n",
            "1275/1275 [==============================] - 10s 8ms/step - loss: 0.6150 - accuracy: 0.7793 - auc: 0.9776 - val_loss: 1.9308 - val_accuracy: 0.4993 - val_auc: 0.8627\n",
            "Epoch 98/100\n",
            "1275/1275 [==============================] - 10s 8ms/step - loss: 0.6035 - accuracy: 0.7842 - auc: 0.9785 - val_loss: 1.9767 - val_accuracy: 0.4984 - val_auc: 0.8616\n",
            "Epoch 99/100\n",
            "1275/1275 [==============================] - 10s 8ms/step - loss: 0.6053 - accuracy: 0.7812 - auc: 0.9782 - val_loss: 1.9539 - val_accuracy: 0.4981 - val_auc: 0.8641\n",
            "Epoch 100/100\n",
            "1275/1275 [==============================] - 10s 8ms/step - loss: 0.5944 - accuracy: 0.7848 - auc: 0.9790 - val_loss: 2.0005 - val_accuracy: 0.4944 - val_auc: 0.8582\n"
          ]
        }
      ],
      "source": [
        "tb_callback = keras.callbacks.TensorBoard(\"tb_log\")\n",
        "history = model.fit(x_train1, y_train1, epochs=100, validation_split=0.2, callbacks=[tb_callback])"
      ],
      "id": "54d1ba6b-cdc6-49e3-97be-9f8d815b4037"
    },
    {
      "cell_type": "code",
      "execution_count": null,
      "metadata": {
        "id": "i4Y-UcRbDscG"
      },
      "outputs": [],
      "source": [
        "%load_ext tensorboard                           # IT DOESN'T WORK TOO ...\n",
        "%tensorboard --logdir=./tb_log "
      ],
      "id": "i4Y-UcRbDscG"
    },
    {
      "cell_type": "markdown",
      "metadata": {
        "id": "4331cfaf-27f0-45fd-9876-485e5b7d0e61"
      },
      "source": [
        "### 4. evaluation test data set"
      ],
      "id": "4331cfaf-27f0-45fd-9876-485e5b7d0e61"
    },
    {
      "cell_type": "code",
      "execution_count": 15,
      "metadata": {
        "colab": {
          "base_uri": "https://localhost:8080/"
        },
        "id": "6fcdf5f3-52c2-4876-9d07-0c359a31c855",
        "outputId": "9e42a590-92d7-4fd1-cfce-f9e319d6102d"
      },
      "outputs": [
        {
          "output_type": "stream",
          "name": "stdout",
          "text": [
            "282/282 [==============================] - 1s 3ms/step\n"
          ]
        }
      ],
      "source": [
        "predicts = model.predict(x_test)"
      ],
      "id": "6fcdf5f3-52c2-4876-9d07-0c359a31c855"
    },
    {
      "cell_type": "code",
      "execution_count": 16,
      "metadata": {
        "colab": {
          "base_uri": "https://localhost:8080/"
        },
        "id": "2e41615b-adc9-49d7-81be-3d97e2d6830f",
        "outputId": "cfef169c-2c6e-4726-da91-aa9bcaf02718"
      },
      "outputs": [
        {
          "output_type": "execute_result",
          "data": {
            "text/plain": [
              "array([8.1825681e-07, 1.4264011e-10, 6.4341402e-05, 9.9822413e-04,\n",
              "       2.2938711e-06, 9.9892849e-01, 1.7519135e-06, 2.4249098e-06,\n",
              "       8.8333764e-11, 1.6968376e-06], dtype=float32)"
            ]
          },
          "metadata": {},
          "execution_count": 16
        }
      ],
      "source": [
        "predicts[11]"
      ],
      "id": "2e41615b-adc9-49d7-81be-3d97e2d6830f"
    },
    {
      "cell_type": "code",
      "execution_count": 17,
      "metadata": {
        "colab": {
          "base_uri": "https://localhost:8080/"
        },
        "id": "3654ee3d-1004-4924-af7d-439fc045046e",
        "outputId": "27782120-c215-4c5f-9700-b1a4a35ad538"
      },
      "outputs": [
        {
          "output_type": "execute_result",
          "data": {
            "text/plain": [
              "array([5.])"
            ]
          },
          "metadata": {},
          "execution_count": 17
        }
      ],
      "source": [
        "y_test[11]"
      ],
      "id": "3654ee3d-1004-4924-af7d-439fc045046e"
    },
    {
      "cell_type": "code",
      "execution_count": 18,
      "metadata": {
        "colab": {
          "base_uri": "https://localhost:8080/"
        },
        "id": "742c3aa7-ca99-49f5-b6a3-70442f15853e",
        "outputId": "127603ba-60ef-4f63-be65-20e09e80c135"
      },
      "outputs": [
        {
          "output_type": "execute_result",
          "data": {
            "text/plain": [
              "(9000, 1)"
            ]
          },
          "metadata": {},
          "execution_count": 18
        }
      ],
      "source": [
        "y_test.shape"
      ],
      "id": "742c3aa7-ca99-49f5-b6a3-70442f15853e"
    },
    {
      "cell_type": "code",
      "execution_count": 19,
      "metadata": {
        "colab": {
          "base_uri": "https://localhost:8080/"
        },
        "id": "932a8ca9-a4ba-4344-a494-2e0c80915609",
        "outputId": "e9bb092c-eb98-460f-e45e-e30bee83984f"
      },
      "outputs": [
        {
          "output_type": "stream",
          "name": "stdout",
          "text": [
            "shape of y_train1 : (9000, 10)\n"
          ]
        }
      ],
      "source": [
        "new_y_ts = []\n",
        "\n",
        "for y in y_test:\n",
        "    target = [0,0,0,0,0,0,0,0,0,0]\n",
        "    target[int(y[0])]=1\n",
        "    new_y_ts.append(target)\n",
        "\n",
        "y_test = np.array(new_y_ts)\n",
        "\n",
        "print('shape of y_train1 :',y_test.shape)"
      ],
      "id": "932a8ca9-a4ba-4344-a494-2e0c80915609"
    },
    {
      "cell_type": "code",
      "execution_count": 20,
      "metadata": {
        "colab": {
          "base_uri": "https://localhost:8080/"
        },
        "id": "5f760f43-ef08-4697-97c6-67cc4651fd11",
        "outputId": "33b8d2ec-1d69-4a89-94f0-0e02ac379294"
      },
      "outputs": [
        {
          "output_type": "execute_result",
          "data": {
            "text/plain": [
              "[2.0006656646728516, 0.4967777729034424, 0.8583276867866516]"
            ]
          },
          "metadata": {},
          "execution_count": 20
        }
      ],
      "source": [
        "model.evaluate(x_test, y_test, verbose=0)"
      ],
      "id": "5f760f43-ef08-4697-97c6-67cc4651fd11"
    },
    {
      "cell_type": "markdown",
      "source": [
        "### Wide and deep network"
      ],
      "metadata": {
        "id": "xtGjDdLQmDUa"
      },
      "id": "xtGjDdLQmDUa"
    },
    {
      "cell_type": "code",
      "source": [
        "flat_x = x_train1.flatten().reshape(51000,3072)"
      ],
      "metadata": {
        "id": "t-WFrXt0qkk_"
      },
      "id": "t-WFrXt0qkk_",
      "execution_count": 21,
      "outputs": []
    },
    {
      "cell_type": "markdown",
      "source": [
        "### First trial : one hidden layer , concatenating input just befor output"
      ],
      "metadata": {
        "id": "FTvXZ44zzQ-y"
      },
      "id": "FTvXZ44zzQ-y"
    },
    {
      "cell_type": "code",
      "source": [
        "input_ = keras.layers.Input(shape=flat_x.shape[1:])\n",
        "hidden_layer1 = keras.layers.Dense(150, activation=\"relu\")(input_)\n",
        "concatenate_layer = keras.layers.Concatenate()([input_, hidden_layer1])\n",
        "output = keras.layers.Dense(10)(concatenate_layer)\n",
        "model = keras.Model(inputs=[input_], outputs=[output])"
      ],
      "metadata": {
        "id": "ej8jJ4kJmAwD"
      },
      "id": "ej8jJ4kJmAwD",
      "execution_count": 22,
      "outputs": []
    },
    {
      "cell_type": "code",
      "source": [
        "model.compile(loss=\"categorical_crossentropy\",\n",
        "              optimizer=\"sgd\",\n",
        "              metrics=['accuracy','AUC']\n",
        "              )"
      ],
      "metadata": {
        "id": "_2uHaRvHmAnS"
      },
      "id": "_2uHaRvHmAnS",
      "execution_count": 23,
      "outputs": []
    },
    {
      "cell_type": "code",
      "source": [
        "tb_callback = keras.callbacks.TensorBoard(\"tb_W&D_log1\")\n",
        "history_W_D1 = model.fit(flat_x, y_train1, epochs=10, validation_split=0.2, callbacks=[tb_callback])"
      ],
      "metadata": {
        "colab": {
          "base_uri": "https://localhost:8080/"
        },
        "id": "X7EffrmymAW4",
        "outputId": "0d670198-67dd-46eb-a590-41c39af9e2a0"
      },
      "id": "X7EffrmymAW4",
      "execution_count": 25,
      "outputs": [
        {
          "output_type": "stream",
          "name": "stdout",
          "text": [
            "Epoch 1/10\n",
            "1275/1275 [==============================] - 11s 9ms/step - loss: 9.2714 - accuracy: 0.1000 - auc: 0.5024 - val_loss: 9.1147 - val_accuracy: 0.0966 - val_auc: 0.4979\n",
            "Epoch 2/10\n",
            "1275/1275 [==============================] - 11s 9ms/step - loss: 9.2714 - accuracy: 0.1000 - auc: 0.5024 - val_loss: 9.1147 - val_accuracy: 0.0966 - val_auc: 0.4979\n",
            "Epoch 3/10\n",
            "1275/1275 [==============================] - 11s 8ms/step - loss: 9.2715 - accuracy: 0.1000 - auc: 0.5024 - val_loss: 9.1147 - val_accuracy: 0.0966 - val_auc: 0.4979\n",
            "Epoch 4/10\n",
            "1275/1275 [==============================] - 11s 8ms/step - loss: 9.2715 - accuracy: 0.1000 - auc: 0.5024 - val_loss: 9.1147 - val_accuracy: 0.0966 - val_auc: 0.4979\n",
            "Epoch 5/10\n",
            "1275/1275 [==============================] - 11s 9ms/step - loss: 9.2715 - accuracy: 0.1000 - auc: 0.5024 - val_loss: 9.1147 - val_accuracy: 0.0966 - val_auc: 0.4979\n",
            "Epoch 6/10\n",
            "1275/1275 [==============================] - 9s 7ms/step - loss: 9.2715 - accuracy: 0.1000 - auc: 0.5024 - val_loss: 9.1147 - val_accuracy: 0.0966 - val_auc: 0.4979\n",
            "Epoch 7/10\n",
            "1275/1275 [==============================] - 12s 10ms/step - loss: 9.2714 - accuracy: 0.1000 - auc: 0.5024 - val_loss: 9.1147 - val_accuracy: 0.0966 - val_auc: 0.4979\n",
            "Epoch 8/10\n",
            "1275/1275 [==============================] - 11s 8ms/step - loss: 9.2714 - accuracy: 0.1000 - auc: 0.5024 - val_loss: 9.1147 - val_accuracy: 0.0966 - val_auc: 0.4979\n",
            "Epoch 9/10\n",
            "1275/1275 [==============================] - 11s 9ms/step - loss: 9.2714 - accuracy: 0.1000 - auc: 0.5024 - val_loss: 9.1147 - val_accuracy: 0.0966 - val_auc: 0.4979\n",
            "Epoch 10/10\n",
            "1275/1275 [==============================] - 12s 9ms/step - loss: 9.2714 - accuracy: 0.1000 - auc: 0.5024 - val_loss: 9.1147 - val_accuracy: 0.0966 - val_auc: 0.4979\n"
          ]
        }
      ]
    },
    {
      "cell_type": "markdown",
      "source": [
        "### Second trial : tow hidden layer , concatenating input just befor output"
      ],
      "metadata": {
        "id": "t5xWS4SP2BV6"
      },
      "id": "t5xWS4SP2BV6"
    },
    {
      "cell_type": "code",
      "source": [
        "input_ = keras.layers.Input(shape=flat_x.shape[1:])\n",
        "hidden_layer1 = keras.layers.Dense(150, activation=\"relu\")(input_)\n",
        "hidden_layer2 = keras.layers.Dense(100, activation=\"relu\")(hidden_layer1)\n",
        "concatenate_layer = keras.layers.Concatenate()([input_, hidden_layer2])\n",
        "output = keras.layers.Dense(10)(concatenate_layer)\n",
        "model = keras.Model(inputs=[input_], outputs=[output])\n",
        "\n",
        "model.compile(loss=\"categorical_crossentropy\",\n",
        "              optimizer=\"sgd\",\n",
        "              metrics=['accuracy','AUC']\n",
        "              )\n",
        "\n",
        "tb_callback = keras.callbacks.TensorBoard(\"tb_W&D_log2\")\n",
        "history_W_D2 = model.fit(flat_x, y_train1, epochs=10, validation_split=0.2, callbacks=[tb_callback])"
      ],
      "metadata": {
        "colab": {
          "base_uri": "https://localhost:8080/"
        },
        "id": "rgycfV9ZzIl4",
        "outputId": "78be37c5-4b8e-413a-c017-e76a138d75e9"
      },
      "id": "rgycfV9ZzIl4",
      "execution_count": 27,
      "outputs": [
        {
          "output_type": "stream",
          "name": "stdout",
          "text": [
            "Epoch 1/10\n",
            "1275/1275 [==============================] - 13s 10ms/step - loss: 8.6583 - accuracy: 0.1014 - auc: 0.5005 - val_loss: 8.3719 - val_accuracy: 0.0967 - val_auc: 0.4983\n",
            "Epoch 2/10\n",
            "1275/1275 [==============================] - 12s 10ms/step - loss: 8.5766 - accuracy: 0.1013 - auc: 0.5001 - val_loss: 8.8571 - val_accuracy: 0.0967 - val_auc: 0.4983\n",
            "Epoch 3/10\n",
            "1275/1275 [==============================] - 15s 12ms/step - loss: 8.8247 - accuracy: 0.1013 - auc: 0.5001 - val_loss: 8.8097 - val_accuracy: 0.0967 - val_auc: 0.4982\n",
            "Epoch 4/10\n",
            "1275/1275 [==============================] - 15s 12ms/step - loss: 8.8088 - accuracy: 0.1013 - auc: 0.5001 - val_loss: 8.3798 - val_accuracy: 0.0967 - val_auc: 0.4982\n",
            "Epoch 5/10\n",
            "1275/1275 [==============================] - 12s 10ms/step - loss: 8.3012 - accuracy: 0.1013 - auc: 0.5001 - val_loss: 9.2964 - val_accuracy: 0.0967 - val_auc: 0.4981\n",
            "Epoch 6/10\n",
            "1275/1275 [==============================] - 13s 10ms/step - loss: 8.2965 - accuracy: 0.1013 - auc: 0.5001 - val_loss: 8.3688 - val_accuracy: 0.0967 - val_auc: 0.4982\n",
            "Epoch 7/10\n",
            "1275/1275 [==============================] - 15s 12ms/step - loss: 8.2965 - accuracy: 0.1013 - auc: 0.5001 - val_loss: 8.3688 - val_accuracy: 0.0967 - val_auc: 0.4982\n",
            "Epoch 8/10\n",
            "1275/1275 [==============================] - 15s 12ms/step - loss: 8.2965 - accuracy: 0.1013 - auc: 0.5001 - val_loss: 8.3688 - val_accuracy: 0.0967 - val_auc: 0.4982\n",
            "Epoch 9/10\n",
            "1275/1275 [==============================] - 17s 13ms/step - loss: 8.2964 - accuracy: 0.1013 - auc: 0.5001 - val_loss: 8.3688 - val_accuracy: 0.0967 - val_auc: 0.4982\n",
            "Epoch 10/10\n",
            "1275/1275 [==============================] - 12s 9ms/step - loss: 8.2965 - accuracy: 0.1013 - auc: 0.5001 - val_loss: 8.3688 - val_accuracy: 0.0967 - val_auc: 0.4982\n"
          ]
        }
      ]
    },
    {
      "cell_type": "markdown",
      "source": [
        "### Third trial : tow hidden layer , concatenate input on hidden2 and there is third hidden layer after concatenated layer"
      ],
      "metadata": {
        "id": "7A13rkSE2ZIq"
      },
      "id": "7A13rkSE2ZIq"
    },
    {
      "cell_type": "code",
      "source": [
        "input_ = keras.layers.Input(shape=flat_x.shape[1:])\n",
        "hidden_layer1 = keras.layers.Dense(150, activation=\"relu\")(input_)\n",
        "hidden_layer2 = keras.layers.Dense(100, activation=\"relu\")(hidden_layer1)\n",
        "concatenate_layer = keras.layers.Concatenate()([input_, hidden_layer2])\n",
        "hidden_layer3 = keras.layers.Dense(150, activation=\"relu\")(concatenate_layer)\n",
        "output = keras.layers.Dense(10)(hidden_layer3)\n",
        "model = keras.Model(inputs=[input_], outputs=[output])\n",
        "\n",
        "model.compile(loss=\"categorical_crossentropy\",\n",
        "              optimizer=\"sgd\",\n",
        "              metrics=['accuracy','AUC']\n",
        "              )\n",
        "\n",
        "tb_callback = keras.callbacks.TensorBoard(\"tb_W&D_log3\")\n",
        "history_W_D3 = model.fit(flat_x, y_train1, epochs=10, validation_split=0.2, callbacks=[tb_callback])"
      ],
      "metadata": {
        "colab": {
          "base_uri": "https://localhost:8080/"
        },
        "id": "tDYOQB8f28Co",
        "outputId": "fe331737-81fc-4eed-c9d8-245adb523c06"
      },
      "id": "tDYOQB8f28Co",
      "execution_count": 28,
      "outputs": [
        {
          "output_type": "stream",
          "name": "stdout",
          "text": [
            "Epoch 1/10\n",
            "1275/1275 [==============================] - 19s 14ms/step - loss: 9.6107 - accuracy: 0.1012 - auc: 0.5022 - val_loss: 9.6441 - val_accuracy: 0.0967 - val_auc: 0.5004\n",
            "Epoch 2/10\n",
            "1275/1275 [==============================] - 20s 16ms/step - loss: 9.6934 - accuracy: 0.1013 - auc: 0.5020 - val_loss: 9.6504 - val_accuracy: 0.0967 - val_auc: 0.5001\n",
            "Epoch 3/10\n",
            "1275/1275 [==============================] - 22s 17ms/step - loss: 9.6985 - accuracy: 0.1013 - auc: 0.5019 - val_loss: 9.6504 - val_accuracy: 0.0967 - val_auc: 0.5001\n",
            "Epoch 4/10\n",
            "1275/1275 [==============================] - 20s 16ms/step - loss: 9.6985 - accuracy: 0.1013 - auc: 0.5019 - val_loss: 9.6504 - val_accuracy: 0.0967 - val_auc: 0.5001\n",
            "Epoch 5/10\n",
            "1275/1275 [==============================] - 21s 16ms/step - loss: 9.6985 - accuracy: 0.1013 - auc: 0.5019 - val_loss: 9.6504 - val_accuracy: 0.0967 - val_auc: 0.5001\n",
            "Epoch 6/10\n",
            "1275/1275 [==============================] - 16s 13ms/step - loss: 9.6985 - accuracy: 0.1013 - auc: 0.5019 - val_loss: 9.6504 - val_accuracy: 0.0967 - val_auc: 0.5001\n",
            "Epoch 7/10\n",
            "1275/1275 [==============================] - 23s 18ms/step - loss: 9.6985 - accuracy: 0.1013 - auc: 0.5019 - val_loss: 9.6504 - val_accuracy: 0.0967 - val_auc: 0.5001\n",
            "Epoch 8/10\n",
            "1275/1275 [==============================] - 19s 15ms/step - loss: 9.6985 - accuracy: 0.1013 - auc: 0.5019 - val_loss: 9.6504 - val_accuracy: 0.0967 - val_auc: 0.5001\n",
            "Epoch 9/10\n",
            "1275/1275 [==============================] - 16s 13ms/step - loss: 9.6985 - accuracy: 0.1013 - auc: 0.5019 - val_loss: 9.6504 - val_accuracy: 0.0967 - val_auc: 0.5001\n",
            "Epoch 10/10\n",
            "1275/1275 [==============================] - 17s 13ms/step - loss: 9.6985 - accuracy: 0.1013 - auc: 0.5019 - val_loss: 9.6504 - val_accuracy: 0.0967 - val_auc: 0.5001\n"
          ]
        }
      ]
    },
    {
      "cell_type": "markdown",
      "source": [
        "### 4th trial : tow hidden layer , concatenating input on hidden2 and there are tow more hidden layer after concatenated layer"
      ],
      "metadata": {
        "id": "z5_2V7mT3aOs"
      },
      "id": "z5_2V7mT3aOs"
    },
    {
      "cell_type": "code",
      "source": [
        "input_ = keras.layers.Input(shape=flat_x.shape[1:])\n",
        "hidden_layer1 = keras.layers.Dense(150, activation=\"relu\")(input_)\n",
        "hidden_layer2 = keras.layers.Dense(100, activation=\"relu\")(hidden_layer1)\n",
        "concatenate_layer = keras.layers.Concatenate()([input_, hidden_layer2])\n",
        "hidden_layer3 = keras.layers.Dense(150, activation=\"relu\")(concatenate_layer)\n",
        "hidden_layer4 = keras.layers.Dense(100, activation=\"relu\")(hidden_layer3)\n",
        "output = keras.layers.Dense(10)(hidden_layer4)\n",
        "model = keras.Model(inputs=[input_], outputs=[output])\n",
        "\n",
        "model.compile(loss=\"categorical_crossentropy\",\n",
        "              optimizer=\"sgd\",\n",
        "              metrics=['accuracy','AUC']\n",
        "              )\n",
        "\n",
        "tb_callback = keras.callbacks.TensorBoard(\"tb_W&D_log4\")\n",
        "history_W_D4 = model.fit(flat_x, y_train1, epochs=10, validation_split=0.2, callbacks=[tb_callback])"
      ],
      "metadata": {
        "colab": {
          "base_uri": "https://localhost:8080/"
        },
        "id": "g-kbLpwA3lz8",
        "outputId": "aa44efb3-633b-4334-dd73-9706c97119dd"
      },
      "id": "g-kbLpwA3lz8",
      "execution_count": 29,
      "outputs": [
        {
          "output_type": "stream",
          "name": "stdout",
          "text": [
            "Epoch 1/10\n",
            "1275/1275 [==============================] - 19s 14ms/step - loss: 11.2610 - accuracy: 0.1002 - auc: 0.4981 - val_loss: 11.1278 - val_accuracy: 0.0979 - val_auc: 0.5039\n",
            "Epoch 2/10\n",
            "1275/1275 [==============================] - 17s 14ms/step - loss: 11.2835 - accuracy: 0.1003 - auc: 0.4981 - val_loss: 11.1673 - val_accuracy: 0.0979 - val_auc: 0.5039\n",
            "Epoch 3/10\n",
            "1275/1275 [==============================] - 17s 13ms/step - loss: 9.5795 - accuracy: 0.1003 - auc: 0.4983 - val_loss: 6.9324 - val_accuracy: 0.0979 - val_auc: 0.5041\n",
            "Epoch 4/10\n",
            "1275/1275 [==============================] - 17s 14ms/step - loss: 7.8279 - accuracy: 0.1003 - auc: 0.4983 - val_loss: 7.3906 - val_accuracy: 0.0979 - val_auc: 0.5040\n",
            "Epoch 5/10\n",
            "1275/1275 [==============================] - 16s 13ms/step - loss: 7.9374 - accuracy: 0.1003 - auc: 0.4982 - val_loss: 8.1870 - val_accuracy: 0.0979 - val_auc: 0.5041\n",
            "Epoch 6/10\n",
            "1275/1275 [==============================] - 23s 18ms/step - loss: 8.0966 - accuracy: 0.1003 - auc: 0.4982 - val_loss: 8.1870 - val_accuracy: 0.0979 - val_auc: 0.5041\n",
            "Epoch 7/10\n",
            "1275/1275 [==============================] - 20s 15ms/step - loss: 8.0966 - accuracy: 0.1003 - auc: 0.4982 - val_loss: 8.1870 - val_accuracy: 0.0979 - val_auc: 0.5041\n",
            "Epoch 8/10\n",
            "1275/1275 [==============================] - 18s 14ms/step - loss: 8.0966 - accuracy: 0.1003 - auc: 0.4982 - val_loss: 8.1870 - val_accuracy: 0.0979 - val_auc: 0.5041\n",
            "Epoch 9/10\n",
            "1275/1275 [==============================] - 17s 14ms/step - loss: 8.0966 - accuracy: 0.1003 - auc: 0.4982 - val_loss: 8.1870 - val_accuracy: 0.0979 - val_auc: 0.5041\n",
            "Epoch 10/10\n",
            "1275/1275 [==============================] - 23s 18ms/step - loss: 8.0966 - accuracy: 0.1003 - auc: 0.4982 - val_loss: 8.1870 - val_accuracy: 0.0979 - val_auc: 0.5041\n"
          ]
        }
      ]
    },
    {
      "cell_type": "markdown",
      "metadata": {
        "id": "31677eb5-15c1-4d26-a329-e3c2eb21f410"
      },
      "source": [
        "### 5. optimizing with keras_tuner"
      ],
      "id": "31677eb5-15c1-4d26-a329-e3c2eb21f410"
    },
    {
      "cell_type": "code",
      "execution_count": 32,
      "metadata": {
        "id": "0JgGC-vvY-nB",
        "colab": {
          "base_uri": "https://localhost:8080/"
        },
        "outputId": "405d94a8-0a82-4828-ce47-5cfd7bacd1cc"
      },
      "outputs": [
        {
          "output_type": "stream",
          "name": "stdout",
          "text": [
            "Looking in indexes: https://pypi.org/simple, https://us-python.pkg.dev/colab-wheels/public/simple/\n",
            "Collecting keras_tuner\n",
            "  Downloading keras_tuner-1.3.5-py3-none-any.whl (176 kB)\n",
            "\u001b[2K     \u001b[90m━━━━━━━━━━━━━━━━━━━━━━━━━━━━━━━━━━━━━━━\u001b[0m \u001b[32m176.1/176.1 kB\u001b[0m \u001b[31m5.5 MB/s\u001b[0m eta \u001b[36m0:00:00\u001b[0m\n",
            "\u001b[?25hCollecting kt-legacy\n",
            "  Downloading kt_legacy-1.0.5-py3-none-any.whl (9.6 kB)\n",
            "Requirement already satisfied: packaging in /usr/local/lib/python3.9/dist-packages (from keras_tuner) (23.0)\n",
            "Requirement already satisfied: requests in /usr/local/lib/python3.9/dist-packages (from keras_tuner) (2.27.1)\n",
            "Requirement already satisfied: urllib3<1.27,>=1.21.1 in /usr/local/lib/python3.9/dist-packages (from requests->keras_tuner) (1.26.15)\n",
            "Requirement already satisfied: idna<4,>=2.5 in /usr/local/lib/python3.9/dist-packages (from requests->keras_tuner) (3.4)\n",
            "Requirement already satisfied: certifi>=2017.4.17 in /usr/local/lib/python3.9/dist-packages (from requests->keras_tuner) (2022.12.7)\n",
            "Requirement already satisfied: charset-normalizer~=2.0.0 in /usr/local/lib/python3.9/dist-packages (from requests->keras_tuner) (2.0.12)\n",
            "Installing collected packages: kt-legacy, keras_tuner\n",
            "Successfully installed keras_tuner-1.3.5 kt-legacy-1.0.5\n"
          ]
        }
      ],
      "source": [
        "! pip install keras_tuner"
      ],
      "id": "0JgGC-vvY-nB"
    },
    {
      "cell_type": "code",
      "execution_count": 43,
      "metadata": {
        "colab": {
          "base_uri": "https://localhost:8080/"
        },
        "id": "5c1a14c0-9ade-4ed5-ae01-e70650a3316d",
        "outputId": "9b257bc7-dabf-4afe-de2f-4bcd8ed08c07"
      },
      "outputs": [
        {
          "output_type": "execute_result",
          "data": {
            "text/plain": [
              "<keras.engine.sequential.Sequential at 0x7fd1f6e74e50>"
            ]
          },
          "metadata": {},
          "execution_count": 43
        }
      ],
      "source": [
        "import keras_tuner\n",
        "\n",
        "def build_model(hp):\n",
        "    model = keras.Sequential()\n",
        "    model.add(keras.layers.Flatten(input_shape=[32, 32,3]))\n",
        "    \n",
        "    # Tune the number of layers.\n",
        "    for i in range(hp.Int(\"num_layers\", 2, 5)):\n",
        "        model.add(\n",
        "            keras.layers.Dense(\n",
        "                # Tune number of units separately.\n",
        "                units=hp.Int(f\"units_{i}\", min_value=20, max_value=400, step=20),activation=\"relu\")\n",
        "            )\n",
        "        \n",
        "    model.add(keras.layers.Dense(10, activation=\"softmax\"))\n",
        "    \n",
        "    learning_rate = hp.Float(\"lr\", min_value=1e-4, max_value=1e-2, sampling=\"log\")\n",
        "    model.compile(optimizer=keras.optimizers.Adam(learning_rate=learning_rate),loss=\"categorical_crossentropy\",metrics=[\"accuracy\",'AUC'])\n",
        "    \n",
        "    return model\n",
        "build_model(keras_tuner.HyperParameters())"
      ],
      "id": "5c1a14c0-9ade-4ed5-ae01-e70650a3316d"
    },
    {
      "cell_type": "code",
      "execution_count": 44,
      "metadata": {
        "colab": {
          "base_uri": "https://localhost:8080/"
        },
        "id": "83f4052e-d494-4a39-8605-9c1342f39198",
        "outputId": "afc9c0ae-7c80-4d7e-9815-e5c9dd060d9f"
      },
      "outputs": [
        {
          "output_type": "stream",
          "name": "stdout",
          "text": [
            "Search space summary\n",
            "Default search space size: 4\n",
            "num_layers (Int)\n",
            "{'default': None, 'conditions': [], 'min_value': 2, 'max_value': 5, 'step': 1, 'sampling': 'linear'}\n",
            "units_0 (Int)\n",
            "{'default': None, 'conditions': [], 'min_value': 20, 'max_value': 400, 'step': 20, 'sampling': 'linear'}\n",
            "units_1 (Int)\n",
            "{'default': None, 'conditions': [], 'min_value': 20, 'max_value': 400, 'step': 20, 'sampling': 'linear'}\n",
            "lr (Float)\n",
            "{'default': 0.0001, 'conditions': [], 'min_value': 0.0001, 'max_value': 0.01, 'step': None, 'sampling': 'log'}\n"
          ]
        }
      ],
      "source": [
        "tuner = keras_tuner.RandomSearch(\n",
        "    hypermodel=build_model,\n",
        "    objective=\"val_accuracy\",\n",
        "    max_trials=15,\n",
        "    executions_per_trial=3,\n",
        "    overwrite=True,\n",
        "    project_name=\"optimizing hp\",\n",
        ")\n",
        "tuner.search_space_summary()"
      ],
      "id": "83f4052e-d494-4a39-8605-9c1342f39198"
    },
    {
      "cell_type": "code",
      "execution_count": 45,
      "metadata": {
        "colab": {
          "base_uri": "https://localhost:8080/"
        },
        "id": "54699ceb-9f65-4ef8-a472-61bbfe6704de",
        "outputId": "2c77e259-183b-41ee-b000-80a6b9a41224"
      },
      "outputs": [
        {
          "output_type": "stream",
          "name": "stdout",
          "text": [
            "Trial 15 Complete [00h 05m 21s]\n",
            "val_accuracy: 0.41477123896280926\n",
            "\n",
            "Best val_accuracy So Far: 0.44826798637708026\n",
            "Total elapsed time: 00h 52m 42s\n"
          ]
        }
      ],
      "source": [
        "tuner.search(x_train1, y_train1, epochs=5, validation_split=0.2)"
      ],
      "id": "54699ceb-9f65-4ef8-a472-61bbfe6704de"
    },
    {
      "cell_type": "code",
      "source": [
        "tuner.results_summary()"
      ],
      "metadata": {
        "colab": {
          "base_uri": "https://localhost:8080/"
        },
        "id": "IpW1t5TyUZeR",
        "outputId": "5adcb31c-b0b9-429e-f7ed-62179aabd0bb"
      },
      "id": "IpW1t5TyUZeR",
      "execution_count": null,
      "outputs": [
        {
          "output_type": "stream",
          "name": "stdout",
          "text": [
            "Results summary\n",
            "Results in ./optimizing hp\n",
            "Showing 10 best trials\n",
            "Objective(name=\"val_accuracy\", direction=\"max\")\n",
            "\n",
            "Trial 08 summary\n",
            "Hyperparameters:\n",
            "num_layers: 6\n",
            "units_0: 544\n",
            "activation: relu\n",
            "units_1: 416\n",
            "lr: 0.00013125030310243128\n",
            "units_2: 224\n",
            "units_3: 320\n",
            "units_4: 992\n",
            "units_5: 128\n",
            "Score: 0.46222221851348877\n",
            "\n",
            "Trial 03 summary\n",
            "Hyperparameters:\n",
            "num_layers: 4\n",
            "units_0: 256\n",
            "activation: relu\n",
            "units_1: 352\n",
            "lr: 0.0003570998050601327\n",
            "units_2: 800\n",
            "units_3: 256\n",
            "units_4: 672\n",
            "Score: 0.4561111132303874\n",
            "\n",
            "Trial 05 summary\n",
            "Hyperparameters:\n",
            "num_layers: 5\n",
            "units_0: 736\n",
            "activation: relu\n",
            "units_1: 736\n",
            "lr: 0.0007104416318148381\n",
            "units_2: 352\n",
            "units_3: 128\n",
            "units_4: 896\n",
            "Score: 0.4429738521575928\n",
            "\n",
            "Trial 00 summary\n",
            "Hyperparameters:\n",
            "num_layers: 2\n",
            "units_0: 896\n",
            "activation: relu\n",
            "units_1: 256\n",
            "lr: 0.003120899982089573\n",
            "Score: 0.41209150354067486\n",
            "\n",
            "Trial 06 summary\n",
            "Hyperparameters:\n",
            "num_layers: 2\n",
            "units_0: 640\n",
            "activation: relu\n",
            "units_1: 512\n",
            "lr: 0.002513168195838526\n",
            "units_2: 384\n",
            "units_3: 320\n",
            "units_4: 512\n",
            "Score: 0.3983660141626994\n",
            "\n",
            "Trial 02 summary\n",
            "Hyperparameters:\n",
            "num_layers: 2\n",
            "units_0: 224\n",
            "activation: relu\n",
            "units_1: 480\n",
            "lr: 0.0016962653437952039\n",
            "units_2: 384\n",
            "units_3: 480\n",
            "units_4: 832\n",
            "Score: 0.3952614367008209\n",
            "\n",
            "Trial 01 summary\n",
            "Hyperparameters:\n",
            "num_layers: 5\n",
            "units_0: 160\n",
            "activation: relu\n",
            "units_1: 832\n",
            "lr: 0.001775133820866207\n",
            "units_2: 128\n",
            "units_3: 128\n",
            "units_4: 128\n",
            "Score: 0.35013072689374286\n",
            "\n",
            "Trial 07 summary\n",
            "Hyperparameters:\n",
            "num_layers: 3\n",
            "units_0: 192\n",
            "activation: relu\n",
            "units_1: 416\n",
            "lr: 0.003213052672478738\n",
            "units_2: 576\n",
            "units_3: 832\n",
            "units_4: 288\n",
            "Score: 0.30392157038052875\n",
            "\n",
            "Trial 09 summary\n",
            "Hyperparameters:\n",
            "num_layers: 5\n",
            "units_0: 1024\n",
            "activation: relu\n",
            "units_1: 384\n",
            "lr: 0.004817411854480006\n",
            "units_2: 192\n",
            "units_3: 128\n",
            "units_4: 480\n",
            "units_5: 1024\n",
            "Score: 0.3002614378929138\n",
            "\n",
            "Trial 04 summary\n",
            "Hyperparameters:\n",
            "num_layers: 4\n",
            "units_0: 928\n",
            "activation: relu\n",
            "units_1: 352\n",
            "lr: 0.00567493706325437\n",
            "units_2: 960\n",
            "units_3: 768\n",
            "units_4: 384\n",
            "Score: 0.10356209178765614\n"
          ]
        }
      ]
    },
    {
      "cell_type": "markdown",
      "source": [],
      "metadata": {
        "id": "qTPag7RxV_FQ"
      },
      "id": "qTPag7RxV_FQ"
    },
    {
      "cell_type": "markdown",
      "source": [
        "### genetic optimization"
      ],
      "metadata": {
        "id": "6EzOnX0tVISc"
      },
      "id": "6EzOnX0tVISc"
    },
    {
      "cell_type": "code",
      "execution_count": null,
      "metadata": {
        "colab": {
          "base_uri": "https://localhost:8080/"
        },
        "id": "lysFTllvhbxJ",
        "outputId": "bffbf871-489e-4217-982a-8945ecf652ba"
      },
      "outputs": [
        {
          "output_type": "stream",
          "name": "stdout",
          "text": [
            "Looking in indexes: https://pypi.org/simple, https://us-python.pkg.dev/colab-wheels/public/simple/\n",
            "Collecting sklearn-genetic-opt[all]\n",
            "  Downloading sklearn_genetic_opt-0.10.1-py3-none-any.whl (33 kB)\n",
            "Requirement already satisfied: numpy>=1.19.0 in /usr/local/lib/python3.9/dist-packages (from sklearn-genetic-opt[all]) (1.22.4)\n",
            "Requirement already satisfied: scikit-learn>=1.1.0 in /usr/local/lib/python3.9/dist-packages (from sklearn-genetic-opt[all]) (1.2.2)\n",
            "Requirement already satisfied: tqdm>=4.61.1 in /usr/local/lib/python3.9/dist-packages (from sklearn-genetic-opt[all]) (4.65.0)\n",
            "Collecting deap>=1.3.3\n",
            "  Downloading deap-1.3.3-cp39-cp39-manylinux_2_5_x86_64.manylinux1_x86_64.manylinux_2_17_x86_64.manylinux2014_x86_64.whl (139 kB)\n",
            "\u001b[2K     \u001b[90m━━━━━━━━━━━━━━━━━━━━━━━━━━━━━━━━━━━━━━━\u001b[0m \u001b[32m139.8/139.8 kB\u001b[0m \u001b[31m7.6 MB/s\u001b[0m eta \u001b[36m0:00:00\u001b[0m\n",
            "\u001b[?25hCollecting mlflow>=1.30.0\n",
            "  Downloading mlflow-2.2.2-py3-none-any.whl (17.6 MB)\n",
            "\u001b[2K     \u001b[90m━━━━━━━━━━━━━━━━━━━━━━━━━━━━━━━━━━━━━━━━\u001b[0m \u001b[32m17.6/17.6 MB\u001b[0m \u001b[31m73.5 MB/s\u001b[0m eta \u001b[36m0:00:00\u001b[0m\n",
            "\u001b[?25hRequirement already satisfied: seaborn>=0.11.2 in /usr/local/lib/python3.9/dist-packages (from sklearn-genetic-opt[all]) (0.12.2)\n",
            "Requirement already satisfied: tensorflow>=2.0.0 in /usr/local/lib/python3.9/dist-packages (from sklearn-genetic-opt[all]) (2.12.0)\n",
            "Requirement already satisfied: pandas<3 in /usr/local/lib/python3.9/dist-packages (from mlflow>=1.30.0->sklearn-genetic-opt[all]) (1.5.3)\n",
            "Requirement already satisfied: pyyaml<7,>=5.1 in /usr/local/lib/python3.9/dist-packages (from mlflow>=1.30.0->sklearn-genetic-opt[all]) (6.0)\n",
            "Collecting gunicorn<21\n",
            "  Downloading gunicorn-20.1.0-py3-none-any.whl (79 kB)\n",
            "\u001b[2K     \u001b[90m━━━━━━━━━━━━━━━━━━━━━━━━━━━━━━━━━━━━━━━━\u001b[0m \u001b[32m79.5/79.5 kB\u001b[0m \u001b[31m10.5 MB/s\u001b[0m eta \u001b[36m0:00:00\u001b[0m\n",
            "\u001b[?25hCollecting databricks-cli<1,>=0.8.7\n",
            "  Downloading databricks-cli-0.17.6.tar.gz (82 kB)\n",
            "\u001b[2K     \u001b[90m━━━━━━━━━━━━━━━━━━━━━━━━━━━━━━━━━━━━━━━━\u001b[0m \u001b[32m82.7/82.7 kB\u001b[0m \u001b[31m10.8 MB/s\u001b[0m eta \u001b[36m0:00:00\u001b[0m\n",
            "\u001b[?25h  Preparing metadata (setup.py) ... \u001b[?25l\u001b[?25hdone\n",
            "Requirement already satisfied: pyarrow<12,>=4.0.0 in /usr/local/lib/python3.9/dist-packages (from mlflow>=1.30.0->sklearn-genetic-opt[all]) (9.0.0)\n",
            "Collecting alembic<2\n",
            "  Downloading alembic-1.10.3-py3-none-any.whl (212 kB)\n",
            "\u001b[2K     \u001b[90m━━━━━━━━━━━━━━━━━━━━━━━━━━━━━━━━━━━━━━\u001b[0m \u001b[32m212.3/212.3 kB\u001b[0m \u001b[31m24.0 MB/s\u001b[0m eta \u001b[36m0:00:00\u001b[0m\n",
            "\u001b[?25hRequirement already satisfied: sqlalchemy<3,>=1.4.0 in /usr/local/lib/python3.9/dist-packages (from mlflow>=1.30.0->sklearn-genetic-opt[all]) (2.0.9)\n",
            "Collecting gitpython<4,>=2.1.0\n",
            "  Downloading GitPython-3.1.31-py3-none-any.whl (184 kB)\n",
            "\u001b[2K     \u001b[90m━━━━━━━━━━━━━━━━━━━━━━━━━━━━━━━━━━━━━━\u001b[0m \u001b[32m184.3/184.3 kB\u001b[0m \u001b[31m23.2 MB/s\u001b[0m eta \u001b[36m0:00:00\u001b[0m\n",
            "\u001b[?25hRequirement already satisfied: packaging<24 in /usr/local/lib/python3.9/dist-packages (from mlflow>=1.30.0->sklearn-genetic-opt[all]) (23.0)\n",
            "Requirement already satisfied: sqlparse<1,>=0.4.0 in /usr/local/lib/python3.9/dist-packages (from mlflow>=1.30.0->sklearn-genetic-opt[all]) (0.4.3)\n",
            "Requirement already satisfied: matplotlib<4 in /usr/local/lib/python3.9/dist-packages (from mlflow>=1.30.0->sklearn-genetic-opt[all]) (3.7.1)\n",
            "Requirement already satisfied: Flask<3 in /usr/local/lib/python3.9/dist-packages (from mlflow>=1.30.0->sklearn-genetic-opt[all]) (2.2.3)\n",
            "Requirement already satisfied: click<9,>=7.0 in /usr/local/lib/python3.9/dist-packages (from mlflow>=1.30.0->sklearn-genetic-opt[all]) (8.1.3)\n",
            "Requirement already satisfied: importlib-metadata!=4.7.0,<7,>=3.7.0 in /usr/local/lib/python3.9/dist-packages (from mlflow>=1.30.0->sklearn-genetic-opt[all]) (6.3.0)\n",
            "Requirement already satisfied: cloudpickle<3 in /usr/local/lib/python3.9/dist-packages (from mlflow>=1.30.0->sklearn-genetic-opt[all]) (2.2.1)\n",
            "Collecting shap<1,>=0.40\n",
            "  Downloading shap-0.41.0-cp39-cp39-manylinux_2_12_x86_64.manylinux2010_x86_64.whl (572 kB)\n",
            "\u001b[2K     \u001b[90m━━━━━━━━━━━━━━━━━━━━━━━━━━━━━━━━━━━━━━\u001b[0m \u001b[32m572.4/572.4 kB\u001b[0m \u001b[31m48.4 MB/s\u001b[0m eta \u001b[36m0:00:00\u001b[0m\n",
            "\u001b[?25hCollecting querystring-parser<2\n",
            "  Downloading querystring_parser-1.2.4-py2.py3-none-any.whl (7.9 kB)\n",
            "Requirement already satisfied: markdown<4,>=3.3 in /usr/local/lib/python3.9/dist-packages (from mlflow>=1.30.0->sklearn-genetic-opt[all]) (3.4.3)\n",
            "Requirement already satisfied: requests<3,>=2.17.3 in /usr/local/lib/python3.9/dist-packages (from mlflow>=1.30.0->sklearn-genetic-opt[all]) (2.27.1)\n",
            "Requirement already satisfied: entrypoints<1 in /usr/local/lib/python3.9/dist-packages (from mlflow>=1.30.0->sklearn-genetic-opt[all]) (0.4)\n",
            "Collecting docker<7,>=4.0.0\n",
            "  Downloading docker-6.0.1-py3-none-any.whl (147 kB)\n",
            "\u001b[2K     \u001b[90m━━━━━━━━━━━━━━━━━━━━━━━━━━━━━━━━━━━━━━\u001b[0m \u001b[32m147.5/147.5 kB\u001b[0m \u001b[31m16.3 MB/s\u001b[0m eta \u001b[36m0:00:00\u001b[0m\n",
            "\u001b[?25hRequirement already satisfied: scipy<2 in /usr/local/lib/python3.9/dist-packages (from mlflow>=1.30.0->sklearn-genetic-opt[all]) (1.10.1)\n",
            "Requirement already satisfied: protobuf<5,>=3.12.0 in /usr/local/lib/python3.9/dist-packages (from mlflow>=1.30.0->sklearn-genetic-opt[all]) (3.20.3)\n",
            "Requirement already satisfied: pytz<2023 in /usr/local/lib/python3.9/dist-packages (from mlflow>=1.30.0->sklearn-genetic-opt[all]) (2022.7.1)\n",
            "Requirement already satisfied: Jinja2<4,>=2.11 in /usr/local/lib/python3.9/dist-packages (from mlflow>=1.30.0->sklearn-genetic-opt[all]) (3.1.2)\n",
            "Requirement already satisfied: threadpoolctl>=2.0.0 in /usr/local/lib/python3.9/dist-packages (from scikit-learn>=1.1.0->sklearn-genetic-opt[all]) (3.1.0)\n",
            "Requirement already satisfied: joblib>=1.1.1 in /usr/local/lib/python3.9/dist-packages (from scikit-learn>=1.1.0->sklearn-genetic-opt[all]) (1.2.0)\n",
            "Requirement already satisfied: keras<2.13,>=2.12.0 in /usr/local/lib/python3.9/dist-packages (from tensorflow>=2.0.0->sklearn-genetic-opt[all]) (2.12.0)\n",
            "Requirement already satisfied: jax>=0.3.15 in /usr/local/lib/python3.9/dist-packages (from tensorflow>=2.0.0->sklearn-genetic-opt[all]) (0.4.8)\n",
            "Requirement already satisfied: tensorflow-io-gcs-filesystem>=0.23.1 in /usr/local/lib/python3.9/dist-packages (from tensorflow>=2.0.0->sklearn-genetic-opt[all]) (0.32.0)\n",
            "Requirement already satisfied: astunparse>=1.6.0 in /usr/local/lib/python3.9/dist-packages (from tensorflow>=2.0.0->sklearn-genetic-opt[all]) (1.6.3)\n",
            "Requirement already satisfied: h5py>=2.9.0 in /usr/local/lib/python3.9/dist-packages (from tensorflow>=2.0.0->sklearn-genetic-opt[all]) (3.8.0)\n",
            "Requirement already satisfied: opt-einsum>=2.3.2 in /usr/local/lib/python3.9/dist-packages (from tensorflow>=2.0.0->sklearn-genetic-opt[all]) (3.3.0)\n",
            "Requirement already satisfied: gast<=0.4.0,>=0.2.1 in /usr/local/lib/python3.9/dist-packages (from tensorflow>=2.0.0->sklearn-genetic-opt[all]) (0.4.0)\n",
            "Requirement already satisfied: absl-py>=1.0.0 in /usr/local/lib/python3.9/dist-packages (from tensorflow>=2.0.0->sklearn-genetic-opt[all]) (1.4.0)\n",
            "Requirement already satisfied: grpcio<2.0,>=1.24.3 in /usr/local/lib/python3.9/dist-packages (from tensorflow>=2.0.0->sklearn-genetic-opt[all]) (1.53.0)\n",
            "Requirement already satisfied: six>=1.12.0 in /usr/local/lib/python3.9/dist-packages (from tensorflow>=2.0.0->sklearn-genetic-opt[all]) (1.16.0)\n",
            "Requirement already satisfied: termcolor>=1.1.0 in /usr/local/lib/python3.9/dist-packages (from tensorflow>=2.0.0->sklearn-genetic-opt[all]) (2.2.0)\n",
            "Requirement already satisfied: setuptools in /usr/local/lib/python3.9/dist-packages (from tensorflow>=2.0.0->sklearn-genetic-opt[all]) (67.6.1)\n",
            "Requirement already satisfied: libclang>=13.0.0 in /usr/local/lib/python3.9/dist-packages (from tensorflow>=2.0.0->sklearn-genetic-opt[all]) (16.0.0)\n",
            "Requirement already satisfied: flatbuffers>=2.0 in /usr/local/lib/python3.9/dist-packages (from tensorflow>=2.0.0->sklearn-genetic-opt[all]) (23.3.3)\n",
            "Requirement already satisfied: wrapt<1.15,>=1.11.0 in /usr/local/lib/python3.9/dist-packages (from tensorflow>=2.0.0->sklearn-genetic-opt[all]) (1.14.1)\n",
            "Requirement already satisfied: google-pasta>=0.1.1 in /usr/local/lib/python3.9/dist-packages (from tensorflow>=2.0.0->sklearn-genetic-opt[all]) (0.2.0)\n",
            "Requirement already satisfied: tensorflow-estimator<2.13,>=2.12.0 in /usr/local/lib/python3.9/dist-packages (from tensorflow>=2.0.0->sklearn-genetic-opt[all]) (2.12.0)\n",
            "Requirement already satisfied: tensorboard<2.13,>=2.12 in /usr/local/lib/python3.9/dist-packages (from tensorflow>=2.0.0->sklearn-genetic-opt[all]) (2.12.1)\n",
            "Requirement already satisfied: typing-extensions>=3.6.6 in /usr/local/lib/python3.9/dist-packages (from tensorflow>=2.0.0->sklearn-genetic-opt[all]) (4.5.0)\n",
            "Collecting Mako\n",
            "  Downloading Mako-1.2.4-py3-none-any.whl (78 kB)\n",
            "\u001b[2K     \u001b[90m━━━━━━━━━━━━━━━━━━━━━━━━━━━━━━━━━━━━━━━━\u001b[0m \u001b[32m78.7/78.7 kB\u001b[0m \u001b[31m10.2 MB/s\u001b[0m eta \u001b[36m0:00:00\u001b[0m\n",
            "\u001b[?25hRequirement already satisfied: wheel<1.0,>=0.23.0 in /usr/local/lib/python3.9/dist-packages (from astunparse>=1.6.0->tensorflow>=2.0.0->sklearn-genetic-opt[all]) (0.40.0)\n",
            "Collecting pyjwt>=1.7.0\n",
            "  Downloading PyJWT-2.6.0-py3-none-any.whl (20 kB)\n",
            "Requirement already satisfied: oauthlib>=3.1.0 in /usr/local/lib/python3.9/dist-packages (from databricks-cli<1,>=0.8.7->mlflow>=1.30.0->sklearn-genetic-opt[all]) (3.2.2)\n",
            "Requirement already satisfied: tabulate>=0.7.7 in /usr/local/lib/python3.9/dist-packages (from databricks-cli<1,>=0.8.7->mlflow>=1.30.0->sklearn-genetic-opt[all]) (0.8.10)\n",
            "Requirement already satisfied: urllib3>=1.26.0 in /usr/local/lib/python3.9/dist-packages (from docker<7,>=4.0.0->mlflow>=1.30.0->sklearn-genetic-opt[all]) (1.26.15)\n",
            "Requirement already satisfied: websocket-client>=0.32.0 in /usr/local/lib/python3.9/dist-packages (from docker<7,>=4.0.0->mlflow>=1.30.0->sklearn-genetic-opt[all]) (1.5.1)\n",
            "Requirement already satisfied: Werkzeug>=2.2.2 in /usr/local/lib/python3.9/dist-packages (from Flask<3->mlflow>=1.30.0->sklearn-genetic-opt[all]) (2.2.3)\n",
            "Requirement already satisfied: itsdangerous>=2.0 in /usr/local/lib/python3.9/dist-packages (from Flask<3->mlflow>=1.30.0->sklearn-genetic-opt[all]) (2.1.2)\n",
            "Collecting gitdb<5,>=4.0.1\n",
            "  Downloading gitdb-4.0.10-py3-none-any.whl (62 kB)\n",
            "\u001b[2K     \u001b[90m━━━━━━━━━━━━━━━━━━━━━━━━━━━━━━━━━━━━━━━━\u001b[0m \u001b[32m62.7/62.7 kB\u001b[0m \u001b[31m8.2 MB/s\u001b[0m eta \u001b[36m0:00:00\u001b[0m\n",
            "\u001b[?25hRequirement already satisfied: zipp>=0.5 in /usr/local/lib/python3.9/dist-packages (from importlib-metadata!=4.7.0,<7,>=3.7.0->mlflow>=1.30.0->sklearn-genetic-opt[all]) (3.15.0)\n",
            "Requirement already satisfied: ml-dtypes>=0.0.3 in /usr/local/lib/python3.9/dist-packages (from jax>=0.3.15->tensorflow>=2.0.0->sklearn-genetic-opt[all]) (0.0.4)\n",
            "Requirement already satisfied: MarkupSafe>=2.0 in /usr/local/lib/python3.9/dist-packages (from Jinja2<4,>=2.11->mlflow>=1.30.0->sklearn-genetic-opt[all]) (2.1.2)\n",
            "Requirement already satisfied: importlib-resources>=3.2.0 in /usr/local/lib/python3.9/dist-packages (from matplotlib<4->mlflow>=1.30.0->sklearn-genetic-opt[all]) (5.12.0)\n",
            "Requirement already satisfied: cycler>=0.10 in /usr/local/lib/python3.9/dist-packages (from matplotlib<4->mlflow>=1.30.0->sklearn-genetic-opt[all]) (0.11.0)\n",
            "Requirement already satisfied: pyparsing>=2.3.1 in /usr/local/lib/python3.9/dist-packages (from matplotlib<4->mlflow>=1.30.0->sklearn-genetic-opt[all]) (3.0.9)\n",
            "Requirement already satisfied: python-dateutil>=2.7 in /usr/local/lib/python3.9/dist-packages (from matplotlib<4->mlflow>=1.30.0->sklearn-genetic-opt[all]) (2.8.2)\n",
            "Requirement already satisfied: contourpy>=1.0.1 in /usr/local/lib/python3.9/dist-packages (from matplotlib<4->mlflow>=1.30.0->sklearn-genetic-opt[all]) (1.0.7)\n",
            "Requirement already satisfied: fonttools>=4.22.0 in /usr/local/lib/python3.9/dist-packages (from matplotlib<4->mlflow>=1.30.0->sklearn-genetic-opt[all]) (4.39.3)\n",
            "Requirement already satisfied: kiwisolver>=1.0.1 in /usr/local/lib/python3.9/dist-packages (from matplotlib<4->mlflow>=1.30.0->sklearn-genetic-opt[all]) (1.4.4)\n",
            "Requirement already satisfied: pillow>=6.2.0 in /usr/local/lib/python3.9/dist-packages (from matplotlib<4->mlflow>=1.30.0->sklearn-genetic-opt[all]) (8.4.0)\n",
            "Requirement already satisfied: certifi>=2017.4.17 in /usr/local/lib/python3.9/dist-packages (from requests<3,>=2.17.3->mlflow>=1.30.0->sklearn-genetic-opt[all]) (2022.12.7)\n",
            "Requirement already satisfied: charset-normalizer~=2.0.0 in /usr/local/lib/python3.9/dist-packages (from requests<3,>=2.17.3->mlflow>=1.30.0->sklearn-genetic-opt[all]) (2.0.12)\n",
            "Requirement already satisfied: idna<4,>=2.5 in /usr/local/lib/python3.9/dist-packages (from requests<3,>=2.17.3->mlflow>=1.30.0->sklearn-genetic-opt[all]) (3.4)\n",
            "Requirement already satisfied: numba in /usr/local/lib/python3.9/dist-packages (from shap<1,>=0.40->mlflow>=1.30.0->sklearn-genetic-opt[all]) (0.56.4)\n",
            "Collecting slicer==0.0.7\n",
            "  Downloading slicer-0.0.7-py3-none-any.whl (14 kB)\n",
            "Requirement already satisfied: greenlet!=0.4.17 in /usr/local/lib/python3.9/dist-packages (from sqlalchemy<3,>=1.4.0->mlflow>=1.30.0->sklearn-genetic-opt[all]) (2.0.2)\n",
            "Requirement already satisfied: tensorboard-plugin-wit>=1.6.0 in /usr/local/lib/python3.9/dist-packages (from tensorboard<2.13,>=2.12->tensorflow>=2.0.0->sklearn-genetic-opt[all]) (1.8.1)\n",
            "Requirement already satisfied: tensorboard-data-server<0.8.0,>=0.7.0 in /usr/local/lib/python3.9/dist-packages (from tensorboard<2.13,>=2.12->tensorflow>=2.0.0->sklearn-genetic-opt[all]) (0.7.0)\n",
            "Requirement already satisfied: google-auth<3,>=1.6.3 in /usr/local/lib/python3.9/dist-packages (from tensorboard<2.13,>=2.12->tensorflow>=2.0.0->sklearn-genetic-opt[all]) (2.17.2)\n",
            "Requirement already satisfied: google-auth-oauthlib<1.1,>=0.5 in /usr/local/lib/python3.9/dist-packages (from tensorboard<2.13,>=2.12->tensorflow>=2.0.0->sklearn-genetic-opt[all]) (1.0.0)\n",
            "Collecting smmap<6,>=3.0.1\n",
            "  Downloading smmap-5.0.0-py3-none-any.whl (24 kB)\n",
            "Requirement already satisfied: cachetools<6.0,>=2.0.0 in /usr/local/lib/python3.9/dist-packages (from google-auth<3,>=1.6.3->tensorboard<2.13,>=2.12->tensorflow>=2.0.0->sklearn-genetic-opt[all]) (5.3.0)\n",
            "Requirement already satisfied: rsa<5,>=3.1.4 in /usr/local/lib/python3.9/dist-packages (from google-auth<3,>=1.6.3->tensorboard<2.13,>=2.12->tensorflow>=2.0.0->sklearn-genetic-opt[all]) (4.9)\n",
            "Requirement already satisfied: pyasn1-modules>=0.2.1 in /usr/local/lib/python3.9/dist-packages (from google-auth<3,>=1.6.3->tensorboard<2.13,>=2.12->tensorflow>=2.0.0->sklearn-genetic-opt[all]) (0.2.8)\n",
            "Requirement already satisfied: requests-oauthlib>=0.7.0 in /usr/local/lib/python3.9/dist-packages (from google-auth-oauthlib<1.1,>=0.5->tensorboard<2.13,>=2.12->tensorflow>=2.0.0->sklearn-genetic-opt[all]) (1.3.1)\n",
            "Requirement already satisfied: llvmlite<0.40,>=0.39.0dev0 in /usr/local/lib/python3.9/dist-packages (from numba->shap<1,>=0.40->mlflow>=1.30.0->sklearn-genetic-opt[all]) (0.39.1)\n",
            "Requirement already satisfied: pyasn1<0.5.0,>=0.4.6 in /usr/local/lib/python3.9/dist-packages (from pyasn1-modules>=0.2.1->google-auth<3,>=1.6.3->tensorboard<2.13,>=2.12->tensorflow>=2.0.0->sklearn-genetic-opt[all]) (0.4.8)\n",
            "Building wheels for collected packages: databricks-cli\n",
            "  Building wheel for databricks-cli (setup.py) ... \u001b[?25l\u001b[?25hdone\n",
            "  Created wheel for databricks-cli: filename=databricks_cli-0.17.6-py3-none-any.whl size=143237 sha256=e0ef44e745b966d63cdfb1fd172a9ab793506575a79d3570f1cbbb4d1431b5d0\n",
            "  Stored in directory: /root/.cache/pip/wheels/06/d9/cb/1cdc0826334cb600957db0b5a8448db02a8995daeab2556745\n",
            "Successfully built databricks-cli\n",
            "Installing collected packages: smmap, slicer, querystring-parser, pyjwt, Mako, gunicorn, deap, gitdb, docker, databricks-cli, alembic, sklearn-genetic-opt, shap, gitpython, mlflow\n",
            "Successfully installed Mako-1.2.4 alembic-1.10.3 databricks-cli-0.17.6 deap-1.3.3 docker-6.0.1 gitdb-4.0.10 gitpython-3.1.31 gunicorn-20.1.0 mlflow-2.2.2 pyjwt-2.6.0 querystring-parser-1.2.4 shap-0.41.0 sklearn-genetic-opt-0.10.1 slicer-0.0.7 smmap-5.0.0\n"
          ]
        }
      ],
      "source": [
        "!pip install sklearn-genetic-opt[all]"
      ],
      "id": "lysFTllvhbxJ"
    },
    {
      "cell_type": "code",
      "source": [
        "def ann_model(number_of_hidden_layers=1,number_of_neurons=50,lr=0.01):\n",
        "    model = keras.models.Sequential()\n",
        "    #model.add(keras.layers.Flatten(input_shape=[32, 32,3]))\n",
        "\n",
        "    for hidden_layer in range(number_of_hidden_layers):\n",
        "        model.add(keras.layers.Dense(number_of_neurons, activation=\"relu\"))\n",
        "\n",
        "    model.add(keras.layers.Dense(10, activation=\"softmax\"))\n",
        "    sgd = keras.optimizers.SGD(lr=lr)\n",
        "    model.compile(optimizer=sgd,loss=\"categorical_crossentropy\",metrics=[\"accuracy\",'AUC'])\n",
        "    return model"
      ],
      "metadata": {
        "id": "cDD3Wru9iJHl"
      },
      "id": "cDD3Wru9iJHl",
      "execution_count": null,
      "outputs": []
    },
    {
      "cell_type": "code",
      "source": [
        "from sklearn_genetic.space import Categorical, Integer, Continuous\n",
        "\n",
        "param_grid = {\"number_of_hidden_layers\":Integer(1,5),\n",
        "              \"number_of_neurons\":Integer(50,150),\n",
        "              \"lr\":Continuous(0.0001,0.1)}"
      ],
      "metadata": {
        "id": "KTGm8M1Rk1-w"
      },
      "id": "KTGm8M1Rk1-w",
      "execution_count": null,
      "outputs": []
    },
    {
      "cell_type": "code",
      "source": [
        "!pip install scikeras"
      ],
      "metadata": {
        "colab": {
          "base_uri": "https://localhost:8080/"
        },
        "id": "2NkmvxxFx0Nk",
        "outputId": "7428c2b8-8ce5-41fe-d97d-a5b99f5a237c"
      },
      "id": "2NkmvxxFx0Nk",
      "execution_count": null,
      "outputs": [
        {
          "output_type": "stream",
          "name": "stdout",
          "text": [
            "Looking in indexes: https://pypi.org/simple, https://us-python.pkg.dev/colab-wheels/public/simple/\n",
            "Collecting scikeras\n",
            "  Downloading scikeras-0.10.0-py3-none-any.whl (27 kB)\n",
            "Requirement already satisfied: packaging>=0.21 in /usr/local/lib/python3.9/dist-packages (from scikeras) (23.0)\n",
            "Requirement already satisfied: scikit-learn>=1.0.0 in /usr/local/lib/python3.9/dist-packages (from scikeras) (1.2.2)\n",
            "Requirement already satisfied: threadpoolctl>=2.0.0 in /usr/local/lib/python3.9/dist-packages (from scikit-learn>=1.0.0->scikeras) (3.1.0)\n",
            "Requirement already satisfied: numpy>=1.17.3 in /usr/local/lib/python3.9/dist-packages (from scikit-learn>=1.0.0->scikeras) (1.22.4)\n",
            "Requirement already satisfied: scipy>=1.3.2 in /usr/local/lib/python3.9/dist-packages (from scikit-learn>=1.0.0->scikeras) (1.10.1)\n",
            "Requirement already satisfied: joblib>=1.1.1 in /usr/local/lib/python3.9/dist-packages (from scikit-learn>=1.0.0->scikeras) (1.2.0)\n",
            "Installing collected packages: scikeras\n",
            "Successfully installed scikeras-0.10.0\n"
          ]
        }
      ]
    },
    {
      "cell_type": "code",
      "source": [
        "!pip install sklearn-genetic"
      ],
      "metadata": {
        "colab": {
          "base_uri": "https://localhost:8080/"
        },
        "id": "YtL3lHJhDqKf",
        "outputId": "3e204fe4-e7c8-44a3-9f10-93a8c72d8ca0"
      },
      "id": "YtL3lHJhDqKf",
      "execution_count": null,
      "outputs": [
        {
          "output_type": "stream",
          "name": "stdout",
          "text": [
            "Looking in indexes: https://pypi.org/simple, https://us-python.pkg.dev/colab-wheels/public/simple/\n",
            "Collecting sklearn-genetic\n",
            "  Downloading sklearn_genetic-0.5.1-py3-none-any.whl (11 kB)\n",
            "Requirement already satisfied: numpy in /usr/local/lib/python3.9/dist-packages (from sklearn-genetic) (1.22.4)\n",
            "Collecting multiprocess\n",
            "  Downloading multiprocess-0.70.14-py39-none-any.whl (132 kB)\n",
            "\u001b[2K     \u001b[90m━━━━━━━━━━━━━━━━━━━━━━━━━━━━━━━━━━━━━━━\u001b[0m \u001b[32m132.9/132.9 kB\u001b[0m \u001b[31m3.9 MB/s\u001b[0m eta \u001b[36m0:00:00\u001b[0m\n",
            "\u001b[?25hRequirement already satisfied: scikit-learn>=0.23 in /usr/local/lib/python3.9/dist-packages (from sklearn-genetic) (1.2.2)\n",
            "Requirement already satisfied: deap>=1.0.2 in /usr/local/lib/python3.9/dist-packages (from sklearn-genetic) (1.3.3)\n",
            "Requirement already satisfied: scipy>=1.3.2 in /usr/local/lib/python3.9/dist-packages (from scikit-learn>=0.23->sklearn-genetic) (1.10.1)\n",
            "Requirement already satisfied: joblib>=1.1.1 in /usr/local/lib/python3.9/dist-packages (from scikit-learn>=0.23->sklearn-genetic) (1.2.0)\n",
            "Requirement already satisfied: threadpoolctl>=2.0.0 in /usr/local/lib/python3.9/dist-packages (from scikit-learn>=0.23->sklearn-genetic) (3.1.0)\n",
            "Collecting dill>=0.3.6\n",
            "  Downloading dill-0.3.6-py3-none-any.whl (110 kB)\n",
            "\u001b[2K     \u001b[90m━━━━━━━━━━━━━━━━━━━━━━━━━━━━━━━━━━━━━━\u001b[0m \u001b[32m110.5/110.5 kB\u001b[0m \u001b[31m10.9 MB/s\u001b[0m eta \u001b[36m0:00:00\u001b[0m\n",
            "\u001b[?25hInstalling collected packages: dill, multiprocess, sklearn-genetic\n",
            "Successfully installed dill-0.3.6 multiprocess-0.70.14 sklearn-genetic-0.5.1\n"
          ]
        }
      ]
    },
    {
      "cell_type": "code",
      "execution_count": null,
      "metadata": {
        "colab": {
          "base_uri": "https://localhost:8080/",
          "height": 452
        },
        "id": "vGwV4E-ids_R",
        "outputId": "182bb439-d3a5-41ea-84a7-74ca2655f1d3"
      },
      "outputs": [
        {
          "output_type": "stream",
          "name": "stderr",
          "text": [
            "/usr/local/lib/python3.9/dist-packages/deap/creator.py:138: RuntimeWarning: A class named 'Individual' has already been created and it will be overwritten. Consider deleting previous creation of that class or rename it.\n",
            "  warnings.warn(\"A class named '{0}' has already been created and it \"\n"
          ]
        },
        {
          "output_type": "error",
          "ename": "ValueError",
          "evalue": "ignored",
          "traceback": [
            "\u001b[0;31m---------------------------------------------------------------------------\u001b[0m",
            "\u001b[0;31mValueError\u001b[0m                                Traceback (most recent call last)",
            "\u001b[0;32m<ipython-input-21-24ef59768a45>\u001b[0m in \u001b[0;36m<cell line: 10>\u001b[0;34m()\u001b[0m\n\u001b[1;32m      8\u001b[0m \u001b[0mselector\u001b[0m \u001b[0;34m=\u001b[0m \u001b[0mGASearchCV\u001b[0m\u001b[0;34m(\u001b[0m\u001b[0mestimator\u001b[0m\u001b[0;34m=\u001b[0m\u001b[0mclassifier\u001b[0m\u001b[0;34m,\u001b[0m \u001b[0mcv\u001b[0m\u001b[0;34m=\u001b[0m\u001b[0;36m3\u001b[0m\u001b[0;34m,\u001b[0m \u001b[0mparam_grid\u001b[0m\u001b[0;34m=\u001b[0m\u001b[0mparam_grid\u001b[0m\u001b[0;34m,\u001b[0m\u001b[0mscoring\u001b[0m\u001b[0;34m=\u001b[0m\u001b[0;34m\"accuracy\"\u001b[0m\u001b[0;34m,\u001b[0m\u001b[0mn_jobs\u001b[0m\u001b[0;34m=\u001b[0m\u001b[0;34m-\u001b[0m\u001b[0;36m1\u001b[0m\u001b[0;34m,\u001b[0m\u001b[0mverbose\u001b[0m\u001b[0;34m=\u001b[0m\u001b[0;32mTrue\u001b[0m\u001b[0;34m,\u001b[0m \u001b[0mpopulation_size\u001b[0m\u001b[0;34m=\u001b[0m\u001b[0;36m10\u001b[0m\u001b[0;34m,\u001b[0m \u001b[0mgenerations\u001b[0m\u001b[0;34m=\u001b[0m\u001b[0;36m20\u001b[0m\u001b[0;34m)\u001b[0m\u001b[0;34m\u001b[0m\u001b[0;34m\u001b[0m\u001b[0m\n\u001b[1;32m      9\u001b[0m \u001b[0;34m\u001b[0m\u001b[0m\n\u001b[0;32m---> 10\u001b[0;31m \u001b[0mGA\u001b[0m \u001b[0;34m=\u001b[0m \u001b[0mselector\u001b[0m\u001b[0;34m.\u001b[0m\u001b[0mfit\u001b[0m\u001b[0;34m(\u001b[0m\u001b[0mx_train1\u001b[0m\u001b[0;34m,\u001b[0m \u001b[0my_train1\u001b[0m\u001b[0;34m)\u001b[0m\u001b[0;34m\u001b[0m\u001b[0;34m\u001b[0m\u001b[0m\n\u001b[0m",
            "\u001b[0;32m/usr/local/lib/python3.9/dist-packages/sklearn_genetic/genetic_search.py\u001b[0m in \u001b[0;36mfit\u001b[0;34m(self, X, y, callbacks)\u001b[0m\n\u001b[1;32m    490\u001b[0m \u001b[0;34m\u001b[0m\u001b[0m\n\u001b[1;32m    491\u001b[0m         \u001b[0;31m# Optimization routine from the selected evolutionary algorithm\u001b[0m\u001b[0;34m\u001b[0m\u001b[0;34m\u001b[0m\u001b[0m\n\u001b[0;32m--> 492\u001b[0;31m         \u001b[0mpop\u001b[0m\u001b[0;34m,\u001b[0m \u001b[0mlog\u001b[0m\u001b[0;34m,\u001b[0m \u001b[0mn_gen\u001b[0m \u001b[0;34m=\u001b[0m \u001b[0mself\u001b[0m\u001b[0;34m.\u001b[0m\u001b[0m_select_algorithm\u001b[0m\u001b[0;34m(\u001b[0m\u001b[0mpop\u001b[0m\u001b[0;34m=\u001b[0m\u001b[0mself\u001b[0m\u001b[0;34m.\u001b[0m\u001b[0m_pop\u001b[0m\u001b[0;34m,\u001b[0m \u001b[0mstats\u001b[0m\u001b[0;34m=\u001b[0m\u001b[0mself\u001b[0m\u001b[0;34m.\u001b[0m\u001b[0m_stats\u001b[0m\u001b[0;34m,\u001b[0m \u001b[0mhof\u001b[0m\u001b[0;34m=\u001b[0m\u001b[0mself\u001b[0m\u001b[0;34m.\u001b[0m\u001b[0m_hof\u001b[0m\u001b[0;34m)\u001b[0m\u001b[0;34m\u001b[0m\u001b[0;34m\u001b[0m\u001b[0m\n\u001b[0m\u001b[1;32m    493\u001b[0m \u001b[0;34m\u001b[0m\u001b[0m\n\u001b[1;32m    494\u001b[0m         \u001b[0;31m# Update the _n_iterations value as the algorithm could stop earlier due a callback\u001b[0m\u001b[0;34m\u001b[0m\u001b[0;34m\u001b[0m\u001b[0m\n",
            "\u001b[0;32m/usr/local/lib/python3.9/dist-packages/sklearn_genetic/genetic_search.py\u001b[0m in \u001b[0;36m_select_algorithm\u001b[0;34m(self, pop, stats, hof)\u001b[0m\n\u001b[1;32m    570\u001b[0m         \u001b[0mselected_algorithm\u001b[0m \u001b[0;34m=\u001b[0m \u001b[0malgorithms_factory\u001b[0m\u001b[0;34m.\u001b[0m\u001b[0mget\u001b[0m\u001b[0;34m(\u001b[0m\u001b[0mself\u001b[0m\u001b[0;34m.\u001b[0m\u001b[0malgorithm\u001b[0m\u001b[0;34m,\u001b[0m \u001b[0;32mNone\u001b[0m\u001b[0;34m)\u001b[0m\u001b[0;34m\u001b[0m\u001b[0;34m\u001b[0m\u001b[0m\n\u001b[1;32m    571\u001b[0m         \u001b[0;32mif\u001b[0m \u001b[0mselected_algorithm\u001b[0m\u001b[0;34m:\u001b[0m\u001b[0;34m\u001b[0m\u001b[0;34m\u001b[0m\u001b[0m\n\u001b[0;32m--> 572\u001b[0;31m             pop, log, gen = selected_algorithm(\n\u001b[0m\u001b[1;32m    573\u001b[0m                 \u001b[0mpop\u001b[0m\u001b[0;34m,\u001b[0m\u001b[0;34m\u001b[0m\u001b[0;34m\u001b[0m\u001b[0m\n\u001b[1;32m    574\u001b[0m                 \u001b[0mself\u001b[0m\u001b[0;34m.\u001b[0m\u001b[0mtoolbox\u001b[0m\u001b[0;34m,\u001b[0m\u001b[0;34m\u001b[0m\u001b[0;34m\u001b[0m\u001b[0m\n",
            "\u001b[0;32m/usr/local/lib/python3.9/dist-packages/sklearn_genetic/algorithms.py\u001b[0m in \u001b[0;36meaMuPlusLambda\u001b[0;34m(population, toolbox, mu, lambda_, cxpb, mutpb, ngen, stats, halloffame, callbacks, verbose, estimator, **kwargs)\u001b[0m\n\u001b[1;32m    278\u001b[0m     \u001b[0minvalid_ind\u001b[0m \u001b[0;34m=\u001b[0m \u001b[0;34m[\u001b[0m\u001b[0mind\u001b[0m \u001b[0;32mfor\u001b[0m \u001b[0mind\u001b[0m \u001b[0;32min\u001b[0m \u001b[0mpopulation\u001b[0m \u001b[0;32mif\u001b[0m \u001b[0;32mnot\u001b[0m \u001b[0mind\u001b[0m\u001b[0;34m.\u001b[0m\u001b[0mfitness\u001b[0m\u001b[0;34m.\u001b[0m\u001b[0mvalid\u001b[0m\u001b[0;34m]\u001b[0m\u001b[0;34m\u001b[0m\u001b[0;34m\u001b[0m\u001b[0m\n\u001b[1;32m    279\u001b[0m     \u001b[0mfitnesses\u001b[0m \u001b[0;34m=\u001b[0m \u001b[0mtoolbox\u001b[0m\u001b[0;34m.\u001b[0m\u001b[0mmap\u001b[0m\u001b[0;34m(\u001b[0m\u001b[0mtoolbox\u001b[0m\u001b[0;34m.\u001b[0m\u001b[0mevaluate\u001b[0m\u001b[0;34m,\u001b[0m \u001b[0minvalid_ind\u001b[0m\u001b[0;34m)\u001b[0m\u001b[0;34m\u001b[0m\u001b[0;34m\u001b[0m\u001b[0m\n\u001b[0;32m--> 280\u001b[0;31m     \u001b[0;32mfor\u001b[0m \u001b[0mind\u001b[0m\u001b[0;34m,\u001b[0m \u001b[0mfit\u001b[0m \u001b[0;32min\u001b[0m \u001b[0mzip\u001b[0m\u001b[0;34m(\u001b[0m\u001b[0minvalid_ind\u001b[0m\u001b[0;34m,\u001b[0m \u001b[0mfitnesses\u001b[0m\u001b[0;34m)\u001b[0m\u001b[0;34m:\u001b[0m\u001b[0;34m\u001b[0m\u001b[0;34m\u001b[0m\u001b[0m\n\u001b[0m\u001b[1;32m    281\u001b[0m         \u001b[0mind\u001b[0m\u001b[0;34m.\u001b[0m\u001b[0mfitness\u001b[0m\u001b[0;34m.\u001b[0m\u001b[0mvalues\u001b[0m \u001b[0;34m=\u001b[0m \u001b[0mfit\u001b[0m\u001b[0;34m\u001b[0m\u001b[0;34m\u001b[0m\u001b[0m\n\u001b[1;32m    282\u001b[0m \u001b[0;34m\u001b[0m\u001b[0m\n",
            "\u001b[0;32m/usr/local/lib/python3.9/dist-packages/sklearn_genetic/genetic_search.py\u001b[0m in \u001b[0;36mevaluate\u001b[0;34m(self, individual)\u001b[0m\n\u001b[1;32m    394\u001b[0m \u001b[0;34m\u001b[0m\u001b[0m\n\u001b[1;32m    395\u001b[0m         \u001b[0mlocal_estimator\u001b[0m \u001b[0;34m=\u001b[0m \u001b[0mclone\u001b[0m\u001b[0;34m(\u001b[0m\u001b[0mself\u001b[0m\u001b[0;34m.\u001b[0m\u001b[0mestimator\u001b[0m\u001b[0;34m)\u001b[0m\u001b[0;34m\u001b[0m\u001b[0;34m\u001b[0m\u001b[0m\n\u001b[0;32m--> 396\u001b[0;31m         \u001b[0mlocal_estimator\u001b[0m\u001b[0;34m.\u001b[0m\u001b[0mset_params\u001b[0m\u001b[0;34m(\u001b[0m\u001b[0;34m**\u001b[0m\u001b[0mcurrent_generation_params\u001b[0m\u001b[0;34m)\u001b[0m\u001b[0;34m\u001b[0m\u001b[0;34m\u001b[0m\u001b[0m\n\u001b[0m\u001b[1;32m    397\u001b[0m \u001b[0;34m\u001b[0m\u001b[0m\n\u001b[1;32m    398\u001b[0m         \u001b[0;31m# Compute the cv-metrics\u001b[0m\u001b[0;34m\u001b[0m\u001b[0;34m\u001b[0m\u001b[0m\n",
            "\u001b[0;32m/usr/local/lib/python3.9/dist-packages/scikeras/wrappers.py\u001b[0m in \u001b[0;36mset_params\u001b[0;34m(self, **params)\u001b[0m\n\u001b[1;32m   1166\u001b[0m                     \u001b[0;31m# Give a SciKeras specific user message to aid\u001b[0m\u001b[0;34m\u001b[0m\u001b[0;34m\u001b[0m\u001b[0m\n\u001b[1;32m   1167\u001b[0m                     \u001b[0;31m# in moving from the Keras wrappers\u001b[0m\u001b[0;34m\u001b[0m\u001b[0;34m\u001b[0m\u001b[0m\n\u001b[0;32m-> 1168\u001b[0;31m                     raise ValueError(\n\u001b[0m\u001b[1;32m   1169\u001b[0m                         \u001b[0;34mf\"Invalid parameter {param} for estimator {self.__name__}.\"\u001b[0m\u001b[0;34m\u001b[0m\u001b[0;34m\u001b[0m\u001b[0m\n\u001b[1;32m   1170\u001b[0m                         \u001b[0;34m\"\\nThis issue can likely be resolved by setting this parameter\"\u001b[0m\u001b[0;34m\u001b[0m\u001b[0;34m\u001b[0m\u001b[0m\n",
            "\u001b[0;31mValueError\u001b[0m: Invalid parameter number_of_hidden_layers for estimator KerasClassifier.\nThis issue can likely be resolved by setting this parameter in the KerasClassifier constructor:\n`KerasClassifier(number_of_hidden_layers=1)`\nCheck the list of available parameters with `estimator.get_params().keys()`"
          ]
        }
      ],
      "source": [
        "from typing_extensions import ParamSpec\n",
        "from genetic_selection import GeneticSelectionCV\n",
        "from scikeras.wrappers import KerasClassifier\n",
        "from sklearn_genetic import GASearchCV\n",
        "\n",
        "classifier = KerasClassifier(build_fn=ann_model, epochs=5, batch_size=10, validation_split=0.2)\n",
        "\n",
        "selector = GASearchCV(estimator=classifier, cv=3, param_grid=param_grid,scoring=\"accuracy\",n_jobs=-1,verbose=True, population_size=10, generations=20)\n",
        "\n",
        "GA = selector.fit(x_train1, y_train1)\n"
      ],
      "id": "vGwV4E-ids_R"
    },
    {
      "cell_type": "code",
      "source": [
        "classifier.get_params()"
      ],
      "metadata": {
        "colab": {
          "base_uri": "https://localhost:8080/"
        },
        "id": "4TdpSyWybJB3",
        "outputId": "a736a7d3-ca48-482c-e196-b5d57a2c34b2"
      },
      "id": "4TdpSyWybJB3",
      "execution_count": null,
      "outputs": [
        {
          "output_type": "execute_result",
          "data": {
            "text/plain": [
              "{'model': None,\n",
              " 'build_fn': <function __main__.ann_model(number_of_hidden_layers=1, number_of_neurons=50, lr=0.01)>,\n",
              " 'warm_start': False,\n",
              " 'random_state': None,\n",
              " 'optimizer': 'rmsprop',\n",
              " 'loss': None,\n",
              " 'metrics': None,\n",
              " 'batch_size': 10,\n",
              " 'validation_batch_size': None,\n",
              " 'verbose': 1,\n",
              " 'callbacks': None,\n",
              " 'validation_split': 0.2,\n",
              " 'shuffle': True,\n",
              " 'run_eagerly': False,\n",
              " 'epochs': 5,\n",
              " 'class_weight': None}"
            ]
          },
          "metadata": {},
          "execution_count": 37
        }
      ]
    },
    {
      "cell_type": "markdown",
      "metadata": {
        "id": "G5pkIEQKicqe"
      },
      "source": [],
      "id": "G5pkIEQKicqe"
    }
  ],
  "metadata": {
    "colab": {
      "provenance": []
    },
    "gpuClass": "standard",
    "kernelspec": {
      "display_name": "Python 3 (ipykernel)",
      "language": "python",
      "name": "python3"
    },
    "language_info": {
      "codemirror_mode": {
        "name": "ipython",
        "version": 3
      },
      "file_extension": ".py",
      "mimetype": "text/x-python",
      "name": "python",
      "nbconvert_exporter": "python",
      "pygments_lexer": "ipython3",
      "version": "3.10.8"
    }
  },
  "nbformat": 4,
  "nbformat_minor": 5
}